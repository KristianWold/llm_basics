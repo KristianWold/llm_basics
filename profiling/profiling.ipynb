{
 "cells": [
  {
   "cell_type": "markdown",
   "id": "52a5f20b",
   "metadata": {},
   "source": [
    "## "
   ]
  },
  {
   "cell_type": "markdown",
   "id": "5b88e945",
   "metadata": {},
   "source": [
    "# Profiling"
   ]
  },
  {
   "cell_type": "code",
   "execution_count": 1,
   "id": "82974e5f",
   "metadata": {},
   "outputs": [
    {
     "name": "stdout",
     "output_type": "stream",
     "text": [
      "PyTorch version: 2.7.1+cu128\n",
      "CUDA toolkit version PyTorch was built with: 12.8\n",
      "cuDNN version: 90701\n"
     ]
    }
   ],
   "source": [
    "import sys, pathlib\n",
    "project_root = pathlib.Path('../').resolve()   # one level up from the notebook\n",
    "sys.path.insert(0, str(project_root))\n",
    "\n",
    "import torch as torch\n",
    "from torch.profiler import profile, record_function, ProfilerActivity\n",
    "\n",
    "\n",
    "from src.transformer import Transformer\n",
    "from src.optimization import train_step, forward_and_loss, group_decay_parameters, save_checkpoint, load_checkpoint\n",
    "from src.utils import loader\n",
    "\n",
    "\n",
    "print(\"PyTorch version:\", torch.__version__)  \n",
    "print(\"CUDA toolkit version PyTorch was built with:\", torch.version.cuda)  \n",
    "print(\"cuDNN version:\", torch.backends.cudnn.version()) \n",
    "\n",
    "device = torch.device(\"cuda:0\" if torch.cuda.is_available() else \"cpu\")"
   ]
  },
  {
   "cell_type": "code",
   "execution_count": 2,
   "id": "ebb65080",
   "metadata": {},
   "outputs": [],
   "source": [
    "tokenizer = loader(\"cnn_tokenizer.pkl\")\n",
    "torch.manual_seed(42)\n",
    "\n",
    "embed_dim = 64*10\n",
    "ff_dim = 4*embed_dim\n",
    "heads = 10\n",
    "tf_blocks = 10\n",
    "\n",
    "model = Transformer(\n",
    "    embed_dim=embed_dim,\n",
    "    ff_dim=ff_dim,\n",
    "    heads=heads,\n",
    "    tf_blocks=tf_blocks,\n",
    "    vocab_size=tokenizer.vocab_size,\n",
    "    max_seq_len=1024,\n",
    "    dropout=0.1,\n",
    "    start_token_id=tokenizer.token_to_idx[\"<s>\"],\n",
    "    use_weight_tying=True\n",
    ").to(device)\n",
    "\n",
    "inputs = torch.randint(0, tokenizer.vocab_size, (10, 1024)).to(device)"
   ]
  },
  {
   "cell_type": "code",
   "execution_count": 5,
   "id": "ca8ff2fb",
   "metadata": {},
   "outputs": [
    {
     "name": "stdout",
     "output_type": "stream",
     "text": [
      "-------------------------------------------------------  ------------  ------------  ------------  ------------  ------------  ------------  ------------  ------------  ------------  ------------  \n",
      "                                                   Name    Self CPU %      Self CPU   CPU total %     CPU total  CPU time avg     Self CUDA   Self CUDA %    CUDA total  CUDA time avg    # of Calls  \n",
      "-------------------------------------------------------  ------------  ------------  ------------  ------------  ------------  ------------  ------------  ------------  ------------  ------------  \n",
      "                                  cudaDeviceSynchronize        88.64%     147.529ms        88.64%     147.529ms     147.529ms       0.000us         0.00%       0.000us       0.000us             1  \n",
      "                                        model_inference         1.64%       2.735ms        11.36%      18.914ms      18.914ms       0.000us         0.00%     161.555ms     161.555ms             1  \n",
      "                                            aten::copy_         0.95%       1.583ms         3.52%       5.859ms     108.508us      19.275ms        11.93%      19.275ms     356.952us            54  \n",
      "                                                   FFNN         0.91%       1.507ms         2.26%       3.765ms     376.500us       0.000us         0.00%      31.669ms       3.167ms            10  \n",
      "                                           aten::matmul         0.18%     304.338us         1.68%       2.789ms      68.022us       0.000us         0.00%      44.907ms       1.095ms            41  \n",
      "                                               aten::to         0.00%       8.235us         1.61%       2.677ms     669.126us       0.000us         0.00%       2.432us       0.608us             4  \n",
      "                                         aten::_to_copy         0.02%      25.708us         1.60%       2.668ms       1.334ms       0.000us         0.00%       2.432us       1.216us             2  \n",
      "                                            aten::clone         0.12%     198.098us         1.51%       2.510ms      49.213us       0.000us         0.00%      19.273ms     377.902us            51  \n",
      "                                             APPLY ATTN         0.44%     731.419us         1.44%       2.396ms     239.637us       0.000us         0.00%      14.979ms       1.498ms            10  \n",
      "                                                    KQV         0.58%     969.387us         1.31%       2.188ms     218.825us       0.000us         0.00%       8.535ms     853.469us            10  \n",
      "                                           aten::linear         0.11%     186.863us         1.29%       2.142ms      53.547us       0.000us         0.00%      39.009ms     975.232us            40  \n",
      "                                             INNER PROD         0.31%     516.174us         1.09%       1.816ms     181.643us       0.000us         0.00%      26.770ms       2.677ms            10  \n",
      "-------------------------------------------------------  ------------  ------------  ------------  ------------  ------------  ------------  ------------  ------------  ------------  ------------  \n",
      "Self CPU time total: 166.443ms\n",
      "Self CUDA time total: 161.555ms\n",
      "\n"
     ]
    }
   ],
   "source": [
    "with profile(\n",
    "        activities=[ProfilerActivity.CPU, ProfilerActivity.CUDA],          # add CUDA/XPU if needed\n",
    "        record_shapes=True,\n",
    "        with_stack=True                            # capture Python stack frames\n",
    ") as prof:\n",
    "    with record_function(\"model_inference\"):\n",
    "        model(inputs)\n",
    "\n",
    "print(\n",
    "    prof.key_averages(                   # aggregate the events …\n",
    "        group_by_stack_n=5               # … and group by the top 5 stack frames\n",
    "    ).table(sort_by=\"cpu_time_total\", row_limit=12)\n",
    ")"
   ]
  },
  {
   "cell_type": "code",
   "execution_count": null,
   "id": "62a9ee64",
   "metadata": {},
   "outputs": [],
   "source": []
  }
 ],
 "metadata": {
  "kernelspec": {
   "display_name": "env_pytorch",
   "language": "python",
   "name": "python3"
  },
  "language_info": {
   "codemirror_mode": {
    "name": "ipython",
    "version": 3
   },
   "file_extension": ".py",
   "mimetype": "text/x-python",
   "name": "python",
   "nbconvert_exporter": "python",
   "pygments_lexer": "ipython3",
   "version": "3.12.2"
  }
 },
 "nbformat": 4,
 "nbformat_minor": 5
}
