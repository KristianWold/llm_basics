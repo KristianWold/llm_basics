{
 "cells": [
  {
   "cell_type": "markdown",
   "id": "04010a08",
   "metadata": {},
   "source": [
    "## LLM"
   ]
  },
  {
   "cell_type": "code",
   "execution_count": 2,
   "id": "8fa3d166",
   "metadata": {},
   "outputs": [
    {
     "name": "stdout",
     "output_type": "stream",
     "text": [
      "Running train_transformer_alt.ipynb ...\n",
      "✅ Finished train_transformer_alt.ipynb\n",
      "Running train_transformer_alt2.ipynb ...\n",
      "✅ Finished train_transformer_alt2.ipynb\n",
      "Running train_transformer_alt3.ipynb ...\n",
      "✅ Finished train_transformer_alt3.ipynb\n"
     ]
    }
   ],
   "source": [
    "from nbclient import NotebookClient\n",
    "from nbformat import read, write\n",
    "\n",
    "def run_notebook(path):\n",
    "    with open(path) as f:\n",
    "        nb = read(f, as_version=4)\n",
    "\n",
    "    client = NotebookClient(nb, timeout=None, kernel_name=\"python3\")\n",
    "    client.execute()\n",
    "\n",
    "    with open(path, \"w\") as f:  # overwrite the same notebook\n",
    "        write(nb, f)\n",
    "\n",
    "# Queue notebooks\n",
    "for nb_path in [\"train_transformer_alt.ipynb\", \"train_transformer_alt2.ipynb\", \"train_transformer_alt3.ipynb\"]:\n",
    "    print(f\"Running {nb_path} ...\")\n",
    "    run_notebook(nb_path)\n",
    "    print(f\"✅ Finished {nb_path}\")"
   ]
  }
 ],
 "metadata": {
  "kernelspec": {
   "display_name": "env_pytorch",
   "language": "python",
   "name": "python3"
  },
  "language_info": {
   "codemirror_mode": {
    "name": "ipython",
    "version": 3
   },
   "file_extension": ".py",
   "mimetype": "text/x-python",
   "name": "python",
   "nbconvert_exporter": "python",
   "pygments_lexer": "ipython3",
   "version": "3.12.2"
  }
 },
 "nbformat": 4,
 "nbformat_minor": 5
}
