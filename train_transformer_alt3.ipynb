{
 "cells": [
  {
   "cell_type": "markdown",
   "id": "04010a08",
   "metadata": {},
   "source": [
    "## LLM"
   ]
  },
  {
   "cell_type": "code",
   "execution_count": 1,
   "id": "8fa3d166",
   "metadata": {
    "execution": {
     "iopub.execute_input": "2025-09-05T04:32:31.412992Z",
     "iopub.status.busy": "2025-09-05T04:32:31.412602Z",
     "iopub.status.idle": "2025-09-05T04:32:35.448879Z",
     "shell.execute_reply": "2025-09-05T04:32:35.448425Z"
    }
   },
   "outputs": [
    {
     "name": "stdout",
     "output_type": "stream",
     "text": [
      "PyTorch version: 2.7.1+cu128\n",
      "CUDA toolkit version PyTorch was built with: 12.8\n",
      "cuDNN version: 90701\n",
      "cuda available: True\n"
     ]
    }
   ],
   "source": [
    "import torch as torch\n",
    "import numpy as np\n",
    "import pickle as pkl\n",
    "from tqdm.notebook import tqdm\n",
    "from src.transformer_alt import Transformer\n",
    "from src.optimization import train_step, forward_and_loss, group_decay_parameters, save_checkpoint, load_checkpoint\n",
    "from src.utils import saver, loader\n",
    "from torch.utils.data import TensorDataset, DataLoader\n",
    "from IPython.display import clear_output\n",
    "import matplotlib.pyplot as plt\n",
    "\n",
    "print(\"PyTorch version:\", torch.__version__)  \n",
    "print(\"CUDA toolkit version PyTorch was built with:\", torch.version.cuda)  \n",
    "print(\"cuDNN version:\", torch.backends.cudnn.version()) \n",
    "print(\"cuda available:\", torch.cuda.is_available())\n",
    "\n",
    "device = torch.device(\"cuda:0\" if torch.cuda.is_available() else \"cpu\")\n",
    "torch.set_float32_matmul_precision('high')"
   ]
  },
  {
   "cell_type": "markdown",
   "id": "6fb06f6e",
   "metadata": {},
   "source": [
    "## Load Data"
   ]
  },
  {
   "cell_type": "code",
   "execution_count": 2,
   "id": "2e6c5044",
   "metadata": {
    "execution": {
     "iopub.execute_input": "2025-09-05T04:32:35.450561Z",
     "iopub.status.busy": "2025-09-05T04:32:35.450359Z",
     "iopub.status.idle": "2025-09-05T04:32:35.490234Z",
     "shell.execute_reply": "2025-09-05T04:32:35.489755Z"
    }
   },
   "outputs": [],
   "source": [
    "tokenizer = loader(\"tokenizers/cnn_tokenizer.pkl\")"
   ]
  },
  {
   "cell_type": "code",
   "execution_count": 3,
   "id": "5a233301",
   "metadata": {
    "execution": {
     "iopub.execute_input": "2025-09-05T04:32:35.492035Z",
     "iopub.status.busy": "2025-09-05T04:32:35.491911Z",
     "iopub.status.idle": "2025-09-05T04:32:38.237085Z",
     "shell.execute_reply": "2025-09-05T04:32:38.236698Z"
    }
   },
   "outputs": [],
   "source": [
    "corpus_train1 = torch.tensor(loader(\"corpus/cnn_dailymail_article_train_tokens1.pkl\"))\n",
    "corpus_train2 = torch.tensor(loader(\"corpus/cnn_dailymail_article_train_tokens2.pkl\"))\n",
    "corpus_train3 = torch.tensor(loader(\"corpus/cnn_dailymail_article_train_tokens3.pkl\"))\n",
    "corpus_train4 = torch.tensor(loader(\"corpus/cnn_dailymail_article_train_tokens4.pkl\"))\n",
    "corpus_train = torch.cat((corpus_train1, corpus_train2, corpus_train3, corpus_train4), dim=0)\n",
    "\n",
    "corpus_test = torch.tensor(loader(\"corpus/cnn_dailymail_article_test_tokens.pkl\"))"
   ]
  },
  {
   "cell_type": "code",
   "execution_count": 4,
   "id": "99b83187",
   "metadata": {
    "execution": {
     "iopub.execute_input": "2025-09-05T04:32:38.238720Z",
     "iopub.status.busy": "2025-09-05T04:32:38.238510Z",
     "iopub.status.idle": "2025-09-05T04:32:38.240974Z",
     "shell.execute_reply": "2025-09-05T04:32:38.240737Z"
    }
   },
   "outputs": [],
   "source": [
    "def batch_data(corpus, batch_length=1024, offset=None):\n",
    "    \"\"\"\n",
    "    Splits the corpus into batches of size batch_size.\n",
    "    \"\"\"\n",
    "    length = len(corpus)\n",
    "    batches = length // batch_length\n",
    "    corpus_truncated = corpus[:batches * batch_length]  # trim to a multiple of batch_length\n",
    "    corpus_batched = corpus_truncated.view(-1, batch_length)  # reshape into batches\n",
    "\n",
    "    # overlapping batches augmentation\n",
    "    if offset is not None:\n",
    "        corpus_offset = corpus_truncated[offset : offset - batch_length]\n",
    "        corpus_offset = corpus_offset.view(-1, batch_length)  # reshape into batches\n",
    "        corpus_batched = torch.cat((corpus_batched, corpus_offset), dim=0)  # concatenate the offset batches\n",
    "\n",
    "    return corpus_batched"
   ]
  },
  {
   "cell_type": "code",
   "execution_count": 5,
   "id": "fac7bfd3",
   "metadata": {
    "execution": {
     "iopub.execute_input": "2025-09-05T04:32:38.241852Z",
     "iopub.status.busy": "2025-09-05T04:32:38.241748Z",
     "iopub.status.idle": "2025-09-05T04:32:38.244103Z",
     "shell.execute_reply": "2025-09-05T04:32:38.243862Z"
    }
   },
   "outputs": [],
   "source": [
    "corpus_train_batched = batch_data(corpus_train, batch_length=1024, offset=None)\n",
    "corpus_test_batched = batch_data(corpus_test, batch_length=1024, offset=None)"
   ]
  },
  {
   "cell_type": "code",
   "execution_count": 6,
   "id": "9c15e7b8",
   "metadata": {
    "execution": {
     "iopub.execute_input": "2025-09-05T04:32:38.244947Z",
     "iopub.status.busy": "2025-09-05T04:32:38.244842Z",
     "iopub.status.idle": "2025-09-05T04:32:38.246755Z",
     "shell.execute_reply": "2025-09-05T04:32:38.246526Z"
    }
   },
   "outputs": [],
   "source": [
    "loader_train = DataLoader(\n",
    "    corpus_train_batched,\n",
    "    batch_size=6,\n",
    "    shuffle=True,       # shuffle every epoch\n",
    "    drop_last=True      # drop the last incomplete batch\n",
    ")\n",
    "\n",
    "loader_test = DataLoader(\n",
    "    corpus_test_batched,\n",
    "    batch_size=6,\n",
    "    shuffle=True,      # no need to shuffle test data\n",
    "    drop_last=True      # drop the last incomplete batch\n",
    ")"
   ]
  },
  {
   "cell_type": "markdown",
   "id": "4b2fec23",
   "metadata": {},
   "source": [
    "## Initialize Model"
   ]
  },
  {
   "cell_type": "code",
   "execution_count": 7,
   "id": "2f2ab524",
   "metadata": {
    "execution": {
     "iopub.execute_input": "2025-09-05T04:32:38.247626Z",
     "iopub.status.busy": "2025-09-05T04:32:38.247462Z",
     "iopub.status.idle": "2025-09-05T04:32:39.088666Z",
     "shell.execute_reply": "2025-09-05T04:32:39.088193Z"
    }
   },
   "outputs": [],
   "source": [
    "torch.manual_seed(42)\n",
    "\n",
    "embed_dim = 119*10\n",
    "ff_dim = 4*embed_dim\n",
    "heads = 10\n",
    "tf_blocks = 10\n",
    "\n",
    "model = Transformer(\n",
    "    embed_dim=embed_dim,\n",
    "    embed_dim_ratio=0.87,\n",
    "    ff_dim=ff_dim,\n",
    "    heads=heads,\n",
    "    tf_blocks=tf_blocks,\n",
    "    vocab_size=tokenizer.vocab_size,\n",
    "    max_seq_len=1024,\n",
    "    dropout=0.1,\n",
    "    start_token_id=tokenizer.token_to_idx[\"<s>\"],\n",
    "    use_weight_tying=False\n",
    ").to(device)\n",
    "\n",
    "optimizer_grouped_parameters = group_decay_parameters(\n",
    "    model,\n",
    "    weight_decay=0.1,\n",
    "    no_decay=[\"bias\", \"LayerNorm.weight\"],\n",
    "    )\n",
    "\n",
    "loss_train_list = []\n",
    "loss_eval_list = []\n",
    "\n",
    "filename = \"checkpoint_transformer_alt3.pth\""
   ]
  },
  {
   "cell_type": "code",
   "execution_count": 8,
   "id": "06acc6b2",
   "metadata": {
    "execution": {
     "iopub.execute_input": "2025-09-05T04:32:39.090514Z",
     "iopub.status.busy": "2025-09-05T04:32:39.090405Z",
     "iopub.status.idle": "2025-09-05T04:32:39.093290Z",
     "shell.execute_reply": "2025-09-05T04:32:39.092971Z"
    }
   },
   "outputs": [
    {
     "name": "stdout",
     "output_type": "stream",
     "text": [
      "Number of parameters: 99126214\n"
     ]
    }
   ],
   "source": [
    "def get_n_params(model):\n",
    "    pp=0\n",
    "    for p in list(model.parameters()):\n",
    "        nn=1\n",
    "        for s in list(p.size()):\n",
    "            nn = nn*s\n",
    "        pp += nn\n",
    "    return pp\n",
    "\n",
    "print(\"Number of parameters:\", get_n_params(model))"
   ]
  },
  {
   "cell_type": "code",
   "execution_count": 9,
   "id": "2d5ead6b",
   "metadata": {
    "execution": {
     "iopub.execute_input": "2025-09-05T04:32:39.094647Z",
     "iopub.status.busy": "2025-09-05T04:32:39.094550Z",
     "iopub.status.idle": "2025-09-05T04:32:39.097318Z",
     "shell.execute_reply": "2025-09-05T04:32:39.097012Z"
    }
   },
   "outputs": [],
   "source": [
    "criterion = torch.nn.CrossEntropyLoss()\n",
    "optimizer = torch.optim.AdamW(optimizer_grouped_parameters, lr=5e-5)\n",
    "scaler = torch.amp.GradScaler(\"cuda\")\n",
    "\n",
    "num_epochs      = 3\n",
    "steps_per_epoch = len(loader_train)\n",
    "warmup_steps    = 250\n",
    "\n",
    "def lr_lambda(step):\n",
    "    if step < warmup_steps:\n",
    "        return float(step) / float(max(1, warmup_steps))\n",
    "    return 1.0\n",
    "\n",
    "scheduler = torch.optim.lr_scheduler.LambdaLR(optimizer, lr_lambda)"
   ]
  },
  {
   "cell_type": "markdown",
   "id": "4fdf7c59",
   "metadata": {},
   "source": [
    "### Load Model"
   ]
  },
  {
   "cell_type": "code",
   "execution_count": 10,
   "id": "191622bf",
   "metadata": {
    "execution": {
     "iopub.execute_input": "2025-09-05T04:32:39.098714Z",
     "iopub.status.busy": "2025-09-05T04:32:39.098617Z",
     "iopub.status.idle": "2025-09-05T04:32:39.100470Z",
     "shell.execute_reply": "2025-09-05T04:32:39.100175Z"
    }
   },
   "outputs": [],
   "source": [
    "#model, optimizer, scheduler = load_checkpoint(\"checkpoint_transformer_alt.pth\", model, optimizer, scheduler)\n",
    "#loss_train_list = loader(\"loss_train_alt.pkl\")\n",
    "#loss_eval_list = loader(\"loss_eval_alt.pkl\")"
   ]
  },
  {
   "cell_type": "code",
   "execution_count": 11,
   "id": "419ff108",
   "metadata": {
    "execution": {
     "iopub.execute_input": "2025-09-05T04:32:39.101909Z",
     "iopub.status.busy": "2025-09-05T04:32:39.101816Z",
     "iopub.status.idle": "2025-09-05T08:12:35.822055Z",
     "shell.execute_reply": "2025-09-05T08:12:35.821501Z"
    }
   },
   "outputs": [
    {
     "name": "stdout",
     "output_type": "stream",
     "text": [
      "Epoch 1/3\n"
     ]
    },
    {
     "data": {
      "application/vnd.jupyter.widget-view+json": {
       "model_id": "f44ef2cbe46140d78446f051a2976b52",
       "version_major": 2,
       "version_minor": 0
      },
      "text/plain": [
       "Training:   0%|          | 0/43829 [00:00<?, ?it/s]"
      ]
     },
     "metadata": {},
     "output_type": "display_data"
    },
    {
     "name": "stdout",
     "output_type": "stream",
     "text": [
      "Step 500, Loss: 9.3667, Loss_eval: 9.3376, Learning Rate: 1.000000e-05\n"
     ]
    },
    {
     "name": "stdout",
     "output_type": "stream",
     "text": [
      "Step 1000, Loss: 8.9361, Loss_eval: 9.0260, Learning Rate: 2.000000e-05\n"
     ]
    },
    {
     "name": "stdout",
     "output_type": "stream",
     "text": [
      "Step 1500, Loss: 8.4515, Loss_eval: 8.4702, Learning Rate: 3.000000e-05\n"
     ]
    },
    {
     "name": "stdout",
     "output_type": "stream",
     "text": [
      "Step 2000, Loss: 7.9103, Loss_eval: 7.9415, Learning Rate: 4.000000e-05\n"
     ]
    },
    {
     "name": "stdout",
     "output_type": "stream",
     "text": [
      "Step 2500, Loss: 7.4134, Loss_eval: 7.4125, Learning Rate: 5.000000e-05\n"
     ]
    },
    {
     "name": "stdout",
     "output_type": "stream",
     "text": [
      "Step 3000, Loss: 7.0445, Loss_eval: 7.0288, Learning Rate: 5.000000e-05\n"
     ]
    },
    {
     "name": "stdout",
     "output_type": "stream",
     "text": [
      "Step 3500, Loss: 6.7654, Loss_eval: 6.7880, Learning Rate: 5.000000e-05\n"
     ]
    },
    {
     "name": "stdout",
     "output_type": "stream",
     "text": [
      "Step 4000, Loss: 6.5757, Loss_eval: 6.5902, Learning Rate: 5.000000e-05\n"
     ]
    },
    {
     "name": "stdout",
     "output_type": "stream",
     "text": [
      "Step 4500, Loss: 6.4692, Loss_eval: 6.5003, Learning Rate: 5.000000e-05\n"
     ]
    },
    {
     "name": "stdout",
     "output_type": "stream",
     "text": [
      "Step 5000, Loss: 6.5438, Loss_eval: 6.3889, Learning Rate: 5.000000e-05\n"
     ]
    },
    {
     "name": "stdout",
     "output_type": "stream",
     "text": [
      "Step 5500, Loss: 6.5348, Loss_eval: 6.2855, Learning Rate: 5.000000e-05\n"
     ]
    },
    {
     "name": "stdout",
     "output_type": "stream",
     "text": [
      "Step 6000, Loss: 6.3522, Loss_eval: 6.2232, Learning Rate: 5.000000e-05\n"
     ]
    },
    {
     "name": "stdout",
     "output_type": "stream",
     "text": [
      "Step 6500, Loss: 6.1399, Loss_eval: 6.2001, Learning Rate: 5.000000e-05\n"
     ]
    },
    {
     "name": "stdout",
     "output_type": "stream",
     "text": [
      "Step 7000, Loss: 6.0664, Loss_eval: 6.1402, Learning Rate: 5.000000e-05\n"
     ]
    },
    {
     "name": "stdout",
     "output_type": "stream",
     "text": [
      "Step 7500, Loss: 5.8955, Loss_eval: 6.0802, Learning Rate: 5.000000e-05\n"
     ]
    },
    {
     "name": "stdout",
     "output_type": "stream",
     "text": [
      "Step 8000, Loss: 5.8227, Loss_eval: 6.0468, Learning Rate: 5.000000e-05\n"
     ]
    },
    {
     "name": "stdout",
     "output_type": "stream",
     "text": [
      "Step 8500, Loss: 5.9902, Loss_eval: 5.9790, Learning Rate: 5.000000e-05\n"
     ]
    },
    {
     "name": "stdout",
     "output_type": "stream",
     "text": [
      "Step 9000, Loss: 5.9950, Loss_eval: 5.9146, Learning Rate: 5.000000e-05\n"
     ]
    },
    {
     "name": "stdout",
     "output_type": "stream",
     "text": [
      "Step 9500, Loss: 5.8534, Loss_eval: 5.8838, Learning Rate: 5.000000e-05\n"
     ]
    },
    {
     "name": "stdout",
     "output_type": "stream",
     "text": [
      "Step 10000, Loss: 5.9240, Loss_eval: 5.8552, Learning Rate: 5.000000e-05\n"
     ]
    },
    {
     "name": "stdout",
     "output_type": "stream",
     "text": [
      "Step 10500, Loss: 5.8381, Loss_eval: 5.7950, Learning Rate: 5.000000e-05\n"
     ]
    },
    {
     "name": "stdout",
     "output_type": "stream",
     "text": [
      "Step 11000, Loss: 5.8869, Loss_eval: 5.8318, Learning Rate: 5.000000e-05\n"
     ]
    },
    {
     "name": "stdout",
     "output_type": "stream",
     "text": [
      "Step 11500, Loss: 5.7796, Loss_eval: 5.7453, Learning Rate: 5.000000e-05\n"
     ]
    },
    {
     "name": "stdout",
     "output_type": "stream",
     "text": [
      "Step 12000, Loss: 5.6888, Loss_eval: 5.7054, Learning Rate: 5.000000e-05\n"
     ]
    },
    {
     "name": "stdout",
     "output_type": "stream",
     "text": [
      "Step 12500, Loss: 5.8466, Loss_eval: 5.7135, Learning Rate: 5.000000e-05\n"
     ]
    },
    {
     "name": "stdout",
     "output_type": "stream",
     "text": [
      "Step 13000, Loss: 5.8209, Loss_eval: 5.6726, Learning Rate: 5.000000e-05\n"
     ]
    },
    {
     "name": "stdout",
     "output_type": "stream",
     "text": [
      "Step 13500, Loss: 5.5241, Loss_eval: 5.6800, Learning Rate: 5.000000e-05\n"
     ]
    },
    {
     "name": "stdout",
     "output_type": "stream",
     "text": [
      "Step 14000, Loss: 5.6369, Loss_eval: 5.6414, Learning Rate: 5.000000e-05\n"
     ]
    },
    {
     "name": "stdout",
     "output_type": "stream",
     "text": [
      "Step 14500, Loss: 5.4143, Loss_eval: 5.5839, Learning Rate: 5.000000e-05\n"
     ]
    },
    {
     "name": "stdout",
     "output_type": "stream",
     "text": [
      "Step 15000, Loss: 5.6843, Loss_eval: 5.5397, Learning Rate: 5.000000e-05\n"
     ]
    },
    {
     "name": "stdout",
     "output_type": "stream",
     "text": [
      "Step 15500, Loss: 5.4163, Loss_eval: 5.5188, Learning Rate: 5.000000e-05\n"
     ]
    },
    {
     "name": "stdout",
     "output_type": "stream",
     "text": [
      "Step 16000, Loss: 5.5330, Loss_eval: 5.5354, Learning Rate: 5.000000e-05\n"
     ]
    },
    {
     "name": "stdout",
     "output_type": "stream",
     "text": [
      "Step 16500, Loss: 5.4136, Loss_eval: 5.4850, Learning Rate: 5.000000e-05\n"
     ]
    },
    {
     "name": "stdout",
     "output_type": "stream",
     "text": [
      "Step 17000, Loss: 5.3676, Loss_eval: 5.4442, Learning Rate: 5.000000e-05\n"
     ]
    },
    {
     "name": "stdout",
     "output_type": "stream",
     "text": [
      "Step 17500, Loss: 5.3852, Loss_eval: 5.4431, Learning Rate: 5.000000e-05\n"
     ]
    },
    {
     "name": "stdout",
     "output_type": "stream",
     "text": [
      "Step 18000, Loss: 5.3464, Loss_eval: 5.4068, Learning Rate: 5.000000e-05\n"
     ]
    },
    {
     "name": "stdout",
     "output_type": "stream",
     "text": [
      "Step 18500, Loss: 5.4232, Loss_eval: 5.3851, Learning Rate: 5.000000e-05\n"
     ]
    },
    {
     "name": "stdout",
     "output_type": "stream",
     "text": [
      "Step 19000, Loss: 5.4049, Loss_eval: 5.3368, Learning Rate: 5.000000e-05\n"
     ]
    },
    {
     "name": "stdout",
     "output_type": "stream",
     "text": [
      "Step 19500, Loss: 5.3214, Loss_eval: 5.3190, Learning Rate: 5.000000e-05\n"
     ]
    },
    {
     "name": "stdout",
     "output_type": "stream",
     "text": [
      "Step 20000, Loss: 5.3814, Loss_eval: 5.3468, Learning Rate: 5.000000e-05\n"
     ]
    },
    {
     "name": "stdout",
     "output_type": "stream",
     "text": [
      "Step 20500, Loss: 5.1502, Loss_eval: 5.3124, Learning Rate: 5.000000e-05\n"
     ]
    },
    {
     "name": "stdout",
     "output_type": "stream",
     "text": [
      "Step 21000, Loss: 5.3061, Loss_eval: 5.2892, Learning Rate: 5.000000e-05\n"
     ]
    },
    {
     "name": "stdout",
     "output_type": "stream",
     "text": [
      "Step 21500, Loss: 5.3370, Loss_eval: 5.3233, Learning Rate: 5.000000e-05\n"
     ]
    },
    {
     "name": "stdout",
     "output_type": "stream",
     "text": [
      "Step 22000, Loss: 5.1882, Loss_eval: 5.2155, Learning Rate: 5.000000e-05\n"
     ]
    },
    {
     "name": "stdout",
     "output_type": "stream",
     "text": [
      "Step 22500, Loss: 5.0756, Loss_eval: 5.2257, Learning Rate: 5.000000e-05\n"
     ]
    },
    {
     "name": "stdout",
     "output_type": "stream",
     "text": [
      "Step 23000, Loss: 5.2217, Loss_eval: 5.2019, Learning Rate: 5.000000e-05\n"
     ]
    },
    {
     "name": "stdout",
     "output_type": "stream",
     "text": [
      "Step 23500, Loss: 5.2266, Loss_eval: 5.2116, Learning Rate: 5.000000e-05\n"
     ]
    },
    {
     "name": "stdout",
     "output_type": "stream",
     "text": [
      "Step 24000, Loss: 5.0531, Loss_eval: 5.2302, Learning Rate: 5.000000e-05\n"
     ]
    },
    {
     "name": "stdout",
     "output_type": "stream",
     "text": [
      "Step 24500, Loss: 5.2094, Loss_eval: 5.1163, Learning Rate: 5.000000e-05\n"
     ]
    },
    {
     "name": "stdout",
     "output_type": "stream",
     "text": [
      "Step 25000, Loss: 5.1747, Loss_eval: 5.1622, Learning Rate: 5.000000e-05\n"
     ]
    },
    {
     "name": "stdout",
     "output_type": "stream",
     "text": [
      "Step 25500, Loss: 5.0011, Loss_eval: 5.1183, Learning Rate: 5.000000e-05\n"
     ]
    },
    {
     "name": "stdout",
     "output_type": "stream",
     "text": [
      "Step 26000, Loss: 4.9237, Loss_eval: 5.1025, Learning Rate: 5.000000e-05\n"
     ]
    },
    {
     "name": "stdout",
     "output_type": "stream",
     "text": [
      "Step 26500, Loss: 5.0771, Loss_eval: 5.1122, Learning Rate: 5.000000e-05\n"
     ]
    },
    {
     "name": "stdout",
     "output_type": "stream",
     "text": [
      "Step 27000, Loss: 4.9692, Loss_eval: 5.1210, Learning Rate: 5.000000e-05\n"
     ]
    },
    {
     "name": "stdout",
     "output_type": "stream",
     "text": [
      "Step 27500, Loss: 5.0677, Loss_eval: 5.0614, Learning Rate: 5.000000e-05\n"
     ]
    },
    {
     "name": "stdout",
     "output_type": "stream",
     "text": [
      "Step 28000, Loss: 5.0386, Loss_eval: 5.1457, Learning Rate: 5.000000e-05\n"
     ]
    },
    {
     "name": "stdout",
     "output_type": "stream",
     "text": [
      "Step 28500, Loss: 4.9332, Loss_eval: 5.0886, Learning Rate: 5.000000e-05\n"
     ]
    },
    {
     "name": "stdout",
     "output_type": "stream",
     "text": [
      "Step 29000, Loss: 4.8899, Loss_eval: 5.0523, Learning Rate: 5.000000e-05\n"
     ]
    },
    {
     "name": "stdout",
     "output_type": "stream",
     "text": [
      "Step 29500, Loss: 4.9576, Loss_eval: 5.0133, Learning Rate: 5.000000e-05\n"
     ]
    },
    {
     "name": "stdout",
     "output_type": "stream",
     "text": [
      "Step 30000, Loss: 4.8808, Loss_eval: 5.0822, Learning Rate: 5.000000e-05\n"
     ]
    },
    {
     "name": "stdout",
     "output_type": "stream",
     "text": [
      "Step 30500, Loss: 4.9660, Loss_eval: 5.0176, Learning Rate: 5.000000e-05\n"
     ]
    },
    {
     "name": "stdout",
     "output_type": "stream",
     "text": [
      "Step 31000, Loss: 4.8916, Loss_eval: 4.9917, Learning Rate: 5.000000e-05\n"
     ]
    },
    {
     "name": "stdout",
     "output_type": "stream",
     "text": [
      "Step 31500, Loss: 4.7353, Loss_eval: 4.9674, Learning Rate: 5.000000e-05\n"
     ]
    },
    {
     "name": "stdout",
     "output_type": "stream",
     "text": [
      "Step 32000, Loss: 4.9753, Loss_eval: 4.9478, Learning Rate: 5.000000e-05\n"
     ]
    },
    {
     "name": "stdout",
     "output_type": "stream",
     "text": [
      "Step 32500, Loss: 4.9479, Loss_eval: 4.9443, Learning Rate: 5.000000e-05\n"
     ]
    },
    {
     "name": "stdout",
     "output_type": "stream",
     "text": [
      "Step 33000, Loss: 4.9807, Loss_eval: 4.9272, Learning Rate: 5.000000e-05\n"
     ]
    },
    {
     "name": "stdout",
     "output_type": "stream",
     "text": [
      "Step 33500, Loss: 4.9793, Loss_eval: 4.9511, Learning Rate: 5.000000e-05\n"
     ]
    },
    {
     "name": "stdout",
     "output_type": "stream",
     "text": [
      "Step 34000, Loss: 5.0835, Loss_eval: 4.9315, Learning Rate: 5.000000e-05\n"
     ]
    },
    {
     "name": "stdout",
     "output_type": "stream",
     "text": [
      "Step 34500, Loss: 4.7566, Loss_eval: 4.9078, Learning Rate: 5.000000e-05\n"
     ]
    },
    {
     "name": "stdout",
     "output_type": "stream",
     "text": [
      "Step 35000, Loss: 4.8588, Loss_eval: 4.9271, Learning Rate: 5.000000e-05\n"
     ]
    },
    {
     "name": "stdout",
     "output_type": "stream",
     "text": [
      "Step 35500, Loss: 4.7638, Loss_eval: 4.9366, Learning Rate: 5.000000e-05\n"
     ]
    },
    {
     "name": "stdout",
     "output_type": "stream",
     "text": [
      "Step 36000, Loss: 4.8090, Loss_eval: 4.9191, Learning Rate: 5.000000e-05\n"
     ]
    },
    {
     "name": "stdout",
     "output_type": "stream",
     "text": [
      "Step 36500, Loss: 4.9008, Loss_eval: 4.8632, Learning Rate: 5.000000e-05\n"
     ]
    },
    {
     "name": "stdout",
     "output_type": "stream",
     "text": [
      "Step 37000, Loss: 4.6274, Loss_eval: 4.8510, Learning Rate: 5.000000e-05\n"
     ]
    },
    {
     "name": "stdout",
     "output_type": "stream",
     "text": [
      "Step 37500, Loss: 4.5076, Loss_eval: 4.8267, Learning Rate: 5.000000e-05\n"
     ]
    },
    {
     "name": "stdout",
     "output_type": "stream",
     "text": [
      "Step 38000, Loss: 4.8720, Loss_eval: 4.8428, Learning Rate: 5.000000e-05\n"
     ]
    },
    {
     "name": "stdout",
     "output_type": "stream",
     "text": [
      "Step 38500, Loss: 4.8183, Loss_eval: 4.8428, Learning Rate: 5.000000e-05\n"
     ]
    },
    {
     "name": "stdout",
     "output_type": "stream",
     "text": [
      "Step 39000, Loss: 4.8497, Loss_eval: 4.8249, Learning Rate: 5.000000e-05\n"
     ]
    },
    {
     "name": "stdout",
     "output_type": "stream",
     "text": [
      "Step 39500, Loss: 4.7107, Loss_eval: 4.7928, Learning Rate: 5.000000e-05\n"
     ]
    },
    {
     "name": "stdout",
     "output_type": "stream",
     "text": [
      "Step 40000, Loss: 4.7418, Loss_eval: 4.7909, Learning Rate: 5.000000e-05\n"
     ]
    },
    {
     "name": "stdout",
     "output_type": "stream",
     "text": [
      "Step 40500, Loss: 4.7148, Loss_eval: 4.8281, Learning Rate: 5.000000e-05\n"
     ]
    },
    {
     "name": "stdout",
     "output_type": "stream",
     "text": [
      "Step 41000, Loss: 4.6348, Loss_eval: 4.7896, Learning Rate: 5.000000e-05\n"
     ]
    },
    {
     "name": "stdout",
     "output_type": "stream",
     "text": [
      "Step 41500, Loss: 4.8395, Loss_eval: 4.8301, Learning Rate: 5.000000e-05\n"
     ]
    },
    {
     "name": "stdout",
     "output_type": "stream",
     "text": [
      "Step 42000, Loss: 4.5523, Loss_eval: 4.7504, Learning Rate: 5.000000e-05\n"
     ]
    },
    {
     "name": "stdout",
     "output_type": "stream",
     "text": [
      "Step 42500, Loss: 4.7390, Loss_eval: 4.7748, Learning Rate: 5.000000e-05\n"
     ]
    },
    {
     "name": "stdout",
     "output_type": "stream",
     "text": [
      "Step 43000, Loss: 4.8599, Loss_eval: 4.7591, Learning Rate: 5.000000e-05\n"
     ]
    },
    {
     "name": "stdout",
     "output_type": "stream",
     "text": [
      "Step 43500, Loss: 4.8385, Loss_eval: 4.6786, Learning Rate: 5.000000e-05\n"
     ]
    },
    {
     "name": "stdout",
     "output_type": "stream",
     "text": [
      "Epoch 2/3\n"
     ]
    },
    {
     "data": {
      "application/vnd.jupyter.widget-view+json": {
       "model_id": "168008486d0344498a25e331e7524722",
       "version_major": 2,
       "version_minor": 0
      },
      "text/plain": [
       "Training:   0%|          | 0/43829 [00:00<?, ?it/s]"
      ]
     },
     "metadata": {},
     "output_type": "display_data"
    },
    {
     "name": "stdout",
     "output_type": "stream",
     "text": [
      "Step 500, Loss: 4.6418, Loss_eval: 4.7093, Learning Rate: 5.000000e-05\n"
     ]
    },
    {
     "name": "stdout",
     "output_type": "stream",
     "text": [
      "Step 1000, Loss: 4.5445, Loss_eval: 4.7000, Learning Rate: 5.000000e-05\n"
     ]
    },
    {
     "name": "stdout",
     "output_type": "stream",
     "text": [
      "Step 1500, Loss: 4.8421, Loss_eval: 4.6505, Learning Rate: 5.000000e-05\n"
     ]
    },
    {
     "name": "stdout",
     "output_type": "stream",
     "text": [
      "Step 2000, Loss: 4.7785, Loss_eval: 4.6890, Learning Rate: 5.000000e-05\n"
     ]
    },
    {
     "name": "stdout",
     "output_type": "stream",
     "text": [
      "Step 2500, Loss: 4.5841, Loss_eval: 4.6952, Learning Rate: 5.000000e-05\n"
     ]
    },
    {
     "name": "stdout",
     "output_type": "stream",
     "text": [
      "Step 3000, Loss: 4.5343, Loss_eval: 4.6701, Learning Rate: 5.000000e-05\n"
     ]
    },
    {
     "name": "stdout",
     "output_type": "stream",
     "text": [
      "Step 3500, Loss: 4.4426, Loss_eval: 4.6530, Learning Rate: 5.000000e-05\n"
     ]
    },
    {
     "name": "stdout",
     "output_type": "stream",
     "text": [
      "Step 4000, Loss: 4.2805, Loss_eval: 4.6533, Learning Rate: 5.000000e-05\n"
     ]
    },
    {
     "name": "stdout",
     "output_type": "stream",
     "text": [
      "Step 4500, Loss: 4.5427, Loss_eval: 4.6504, Learning Rate: 5.000000e-05\n"
     ]
    },
    {
     "name": "stdout",
     "output_type": "stream",
     "text": [
      "Step 5000, Loss: 4.5645, Loss_eval: 4.6579, Learning Rate: 5.000000e-05\n"
     ]
    },
    {
     "name": "stdout",
     "output_type": "stream",
     "text": [
      "Step 5500, Loss: 4.4972, Loss_eval: 4.5713, Learning Rate: 5.000000e-05\n"
     ]
    },
    {
     "name": "stdout",
     "output_type": "stream",
     "text": [
      "Step 6000, Loss: 4.7271, Loss_eval: 4.6568, Learning Rate: 5.000000e-05\n"
     ]
    },
    {
     "name": "stdout",
     "output_type": "stream",
     "text": [
      "Step 6500, Loss: 4.4472, Loss_eval: 4.6054, Learning Rate: 5.000000e-05\n"
     ]
    },
    {
     "name": "stdout",
     "output_type": "stream",
     "text": [
      "Step 7000, Loss: 4.5327, Loss_eval: 4.6318, Learning Rate: 5.000000e-05\n"
     ]
    },
    {
     "name": "stdout",
     "output_type": "stream",
     "text": [
      "Step 7500, Loss: 4.4541, Loss_eval: 4.6317, Learning Rate: 5.000000e-05\n"
     ]
    },
    {
     "name": "stdout",
     "output_type": "stream",
     "text": [
      "Step 8000, Loss: 4.5879, Loss_eval: 4.6393, Learning Rate: 5.000000e-05\n"
     ]
    },
    {
     "name": "stdout",
     "output_type": "stream",
     "text": [
      "Step 8500, Loss: 4.2811, Loss_eval: 4.5933, Learning Rate: 5.000000e-05\n"
     ]
    },
    {
     "name": "stdout",
     "output_type": "stream",
     "text": [
      "Step 9000, Loss: 4.4849, Loss_eval: 4.6064, Learning Rate: 5.000000e-05\n"
     ]
    },
    {
     "name": "stdout",
     "output_type": "stream",
     "text": [
      "Step 9500, Loss: 4.6040, Loss_eval: 4.6278, Learning Rate: 5.000000e-05\n"
     ]
    },
    {
     "name": "stdout",
     "output_type": "stream",
     "text": [
      "Step 10000, Loss: 4.4452, Loss_eval: 4.5585, Learning Rate: 5.000000e-05\n"
     ]
    },
    {
     "name": "stdout",
     "output_type": "stream",
     "text": [
      "Step 10500, Loss: 4.5813, Loss_eval: 4.5830, Learning Rate: 5.000000e-05\n"
     ]
    },
    {
     "name": "stdout",
     "output_type": "stream",
     "text": [
      "Step 11000, Loss: 4.5194, Loss_eval: 4.5319, Learning Rate: 5.000000e-05\n"
     ]
    },
    {
     "name": "stdout",
     "output_type": "stream",
     "text": [
      "Step 11500, Loss: 4.6969, Loss_eval: 4.5729, Learning Rate: 5.000000e-05\n"
     ]
    },
    {
     "name": "stdout",
     "output_type": "stream",
     "text": [
      "Step 12000, Loss: 4.4067, Loss_eval: 4.5306, Learning Rate: 5.000000e-05\n"
     ]
    },
    {
     "name": "stdout",
     "output_type": "stream",
     "text": [
      "Step 12500, Loss: 4.4117, Loss_eval: 4.5525, Learning Rate: 5.000000e-05\n"
     ]
    },
    {
     "name": "stdout",
     "output_type": "stream",
     "text": [
      "Step 13000, Loss: 4.5126, Loss_eval: 4.4848, Learning Rate: 5.000000e-05\n"
     ]
    },
    {
     "name": "stdout",
     "output_type": "stream",
     "text": [
      "Step 13500, Loss: 4.4291, Loss_eval: 4.4792, Learning Rate: 5.000000e-05\n"
     ]
    },
    {
     "name": "stdout",
     "output_type": "stream",
     "text": [
      "Step 14000, Loss: 4.5562, Loss_eval: 4.4582, Learning Rate: 5.000000e-05\n"
     ]
    },
    {
     "name": "stdout",
     "output_type": "stream",
     "text": [
      "Step 14500, Loss: 4.4303, Loss_eval: 4.4860, Learning Rate: 5.000000e-05\n"
     ]
    },
    {
     "name": "stdout",
     "output_type": "stream",
     "text": [
      "Step 15000, Loss: 4.3187, Loss_eval: 4.4562, Learning Rate: 5.000000e-05\n"
     ]
    },
    {
     "name": "stdout",
     "output_type": "stream",
     "text": [
      "Step 15500, Loss: 4.3788, Loss_eval: 4.5009, Learning Rate: 5.000000e-05\n"
     ]
    },
    {
     "name": "stdout",
     "output_type": "stream",
     "text": [
      "Step 16000, Loss: 4.3446, Loss_eval: 4.5264, Learning Rate: 5.000000e-05\n"
     ]
    },
    {
     "name": "stdout",
     "output_type": "stream",
     "text": [
      "Step 16500, Loss: 4.5087, Loss_eval: 4.4685, Learning Rate: 5.000000e-05\n"
     ]
    },
    {
     "name": "stdout",
     "output_type": "stream",
     "text": [
      "Step 17000, Loss: 4.4165, Loss_eval: 4.4936, Learning Rate: 5.000000e-05\n"
     ]
    },
    {
     "name": "stdout",
     "output_type": "stream",
     "text": [
      "Step 17500, Loss: 4.3580, Loss_eval: 4.4886, Learning Rate: 5.000000e-05\n"
     ]
    },
    {
     "name": "stdout",
     "output_type": "stream",
     "text": [
      "Step 18000, Loss: 4.3260, Loss_eval: 4.5177, Learning Rate: 5.000000e-05\n"
     ]
    },
    {
     "name": "stdout",
     "output_type": "stream",
     "text": [
      "Step 18500, Loss: 4.3462, Loss_eval: 4.4160, Learning Rate: 5.000000e-05\n"
     ]
    },
    {
     "name": "stdout",
     "output_type": "stream",
     "text": [
      "Step 19000, Loss: 4.2525, Loss_eval: 4.4409, Learning Rate: 5.000000e-05\n"
     ]
    },
    {
     "name": "stdout",
     "output_type": "stream",
     "text": [
      "Step 19500, Loss: 4.4934, Loss_eval: 4.3694, Learning Rate: 5.000000e-05\n"
     ]
    },
    {
     "name": "stdout",
     "output_type": "stream",
     "text": [
      "Step 20000, Loss: 4.3772, Loss_eval: 4.4764, Learning Rate: 5.000000e-05\n"
     ]
    },
    {
     "name": "stdout",
     "output_type": "stream",
     "text": [
      "Step 20500, Loss: 4.4858, Loss_eval: 4.4150, Learning Rate: 5.000000e-05\n"
     ]
    },
    {
     "name": "stdout",
     "output_type": "stream",
     "text": [
      "Step 21000, Loss: 4.4002, Loss_eval: 4.4798, Learning Rate: 5.000000e-05\n"
     ]
    },
    {
     "name": "stdout",
     "output_type": "stream",
     "text": [
      "Step 21500, Loss: 4.2762, Loss_eval: 4.4394, Learning Rate: 5.000000e-05\n"
     ]
    },
    {
     "name": "stdout",
     "output_type": "stream",
     "text": [
      "Step 22000, Loss: 4.3100, Loss_eval: 4.4083, Learning Rate: 5.000000e-05\n"
     ]
    },
    {
     "name": "stdout",
     "output_type": "stream",
     "text": [
      "Step 22500, Loss: 4.2778, Loss_eval: 4.4021, Learning Rate: 5.000000e-05\n"
     ]
    },
    {
     "name": "stdout",
     "output_type": "stream",
     "text": [
      "Step 23000, Loss: 4.2381, Loss_eval: 4.3747, Learning Rate: 5.000000e-05\n"
     ]
    },
    {
     "name": "stdout",
     "output_type": "stream",
     "text": [
      "Step 23500, Loss: 4.4424, Loss_eval: 4.4222, Learning Rate: 5.000000e-05\n"
     ]
    },
    {
     "name": "stdout",
     "output_type": "stream",
     "text": [
      "Step 24000, Loss: 4.3230, Loss_eval: 4.4356, Learning Rate: 5.000000e-05\n"
     ]
    },
    {
     "name": "stdout",
     "output_type": "stream",
     "text": [
      "Step 24500, Loss: 4.1513, Loss_eval: 4.3888, Learning Rate: 5.000000e-05\n"
     ]
    },
    {
     "name": "stdout",
     "output_type": "stream",
     "text": [
      "Step 25000, Loss: 4.1028, Loss_eval: 4.3680, Learning Rate: 5.000000e-05\n"
     ]
    },
    {
     "name": "stdout",
     "output_type": "stream",
     "text": [
      "Step 25500, Loss: 4.1608, Loss_eval: 4.3462, Learning Rate: 5.000000e-05\n"
     ]
    },
    {
     "name": "stdout",
     "output_type": "stream",
     "text": [
      "Step 26000, Loss: 4.3256, Loss_eval: 4.3575, Learning Rate: 5.000000e-05\n"
     ]
    },
    {
     "name": "stdout",
     "output_type": "stream",
     "text": [
      "Step 26500, Loss: 4.1563, Loss_eval: 4.3037, Learning Rate: 5.000000e-05\n"
     ]
    },
    {
     "name": "stdout",
     "output_type": "stream",
     "text": [
      "Step 27000, Loss: 4.1078, Loss_eval: 4.3304, Learning Rate: 5.000000e-05\n"
     ]
    },
    {
     "name": "stdout",
     "output_type": "stream",
     "text": [
      "Step 27500, Loss: 4.3701, Loss_eval: 4.3589, Learning Rate: 5.000000e-05\n"
     ]
    },
    {
     "name": "stdout",
     "output_type": "stream",
     "text": [
      "Step 28000, Loss: 4.5522, Loss_eval: 4.3418, Learning Rate: 5.000000e-05\n"
     ]
    },
    {
     "name": "stdout",
     "output_type": "stream",
     "text": [
      "Step 28500, Loss: 4.1444, Loss_eval: 4.3206, Learning Rate: 5.000000e-05\n"
     ]
    },
    {
     "name": "stdout",
     "output_type": "stream",
     "text": [
      "Step 29000, Loss: 4.1466, Loss_eval: 4.3475, Learning Rate: 5.000000e-05\n"
     ]
    },
    {
     "name": "stdout",
     "output_type": "stream",
     "text": [
      "Step 29500, Loss: 4.3654, Loss_eval: 4.3228, Learning Rate: 5.000000e-05\n"
     ]
    },
    {
     "name": "stdout",
     "output_type": "stream",
     "text": [
      "Step 30000, Loss: 4.1351, Loss_eval: 4.3192, Learning Rate: 5.000000e-05\n"
     ]
    },
    {
     "name": "stdout",
     "output_type": "stream",
     "text": [
      "Step 30500, Loss: 4.2851, Loss_eval: 4.2503, Learning Rate: 5.000000e-05\n"
     ]
    },
    {
     "name": "stdout",
     "output_type": "stream",
     "text": [
      "Step 31000, Loss: 4.1487, Loss_eval: 4.3347, Learning Rate: 5.000000e-05\n"
     ]
    },
    {
     "name": "stdout",
     "output_type": "stream",
     "text": [
      "Step 31500, Loss: 3.9185, Loss_eval: 4.3263, Learning Rate: 5.000000e-05\n"
     ]
    },
    {
     "name": "stdout",
     "output_type": "stream",
     "text": [
      "Step 32000, Loss: 4.1729, Loss_eval: 4.2328, Learning Rate: 5.000000e-05\n"
     ]
    },
    {
     "name": "stdout",
     "output_type": "stream",
     "text": [
      "Step 32500, Loss: 4.1677, Loss_eval: 4.2644, Learning Rate: 5.000000e-05\n"
     ]
    },
    {
     "name": "stdout",
     "output_type": "stream",
     "text": [
      "Step 33000, Loss: 3.9048, Loss_eval: 4.2809, Learning Rate: 5.000000e-05\n"
     ]
    },
    {
     "name": "stdout",
     "output_type": "stream",
     "text": [
      "Step 33500, Loss: 4.2221, Loss_eval: 4.2723, Learning Rate: 5.000000e-05\n"
     ]
    },
    {
     "name": "stdout",
     "output_type": "stream",
     "text": [
      "Step 34000, Loss: 4.1387, Loss_eval: 4.2828, Learning Rate: 5.000000e-05\n"
     ]
    },
    {
     "name": "stdout",
     "output_type": "stream",
     "text": [
      "Step 34500, Loss: 4.3447, Loss_eval: 4.2905, Learning Rate: 5.000000e-05\n"
     ]
    },
    {
     "name": "stdout",
     "output_type": "stream",
     "text": [
      "Step 35000, Loss: 4.1521, Loss_eval: 4.1941, Learning Rate: 5.000000e-05\n"
     ]
    },
    {
     "name": "stdout",
     "output_type": "stream",
     "text": [
      "Step 35500, Loss: 4.1881, Loss_eval: 4.2623, Learning Rate: 5.000000e-05\n"
     ]
    },
    {
     "name": "stdout",
     "output_type": "stream",
     "text": [
      "Step 36000, Loss: 4.0618, Loss_eval: 4.2482, Learning Rate: 5.000000e-05\n"
     ]
    },
    {
     "name": "stdout",
     "output_type": "stream",
     "text": [
      "Step 36500, Loss: 4.3086, Loss_eval: 4.2828, Learning Rate: 5.000000e-05\n"
     ]
    },
    {
     "name": "stdout",
     "output_type": "stream",
     "text": [
      "Step 37000, Loss: 4.0928, Loss_eval: 4.2958, Learning Rate: 5.000000e-05\n"
     ]
    },
    {
     "name": "stdout",
     "output_type": "stream",
     "text": [
      "Step 37500, Loss: 3.9477, Loss_eval: 4.2248, Learning Rate: 5.000000e-05\n"
     ]
    },
    {
     "name": "stdout",
     "output_type": "stream",
     "text": [
      "Step 38000, Loss: 4.1828, Loss_eval: 4.2396, Learning Rate: 5.000000e-05\n"
     ]
    },
    {
     "name": "stdout",
     "output_type": "stream",
     "text": [
      "Step 38500, Loss: 4.1296, Loss_eval: 4.2882, Learning Rate: 5.000000e-05\n"
     ]
    },
    {
     "name": "stdout",
     "output_type": "stream",
     "text": [
      "Step 39000, Loss: 4.0847, Loss_eval: 4.2780, Learning Rate: 5.000000e-05\n"
     ]
    },
    {
     "name": "stdout",
     "output_type": "stream",
     "text": [
      "Step 39500, Loss: 4.2053, Loss_eval: 4.2475, Learning Rate: 5.000000e-05\n"
     ]
    },
    {
     "name": "stdout",
     "output_type": "stream",
     "text": [
      "Step 40000, Loss: 4.0484, Loss_eval: 4.2257, Learning Rate: 5.000000e-05\n"
     ]
    },
    {
     "name": "stdout",
     "output_type": "stream",
     "text": [
      "Step 40500, Loss: 4.0340, Loss_eval: 4.2155, Learning Rate: 5.000000e-05\n"
     ]
    },
    {
     "name": "stdout",
     "output_type": "stream",
     "text": [
      "Step 41000, Loss: 3.9563, Loss_eval: 4.2585, Learning Rate: 5.000000e-05\n"
     ]
    },
    {
     "name": "stdout",
     "output_type": "stream",
     "text": [
      "Step 41500, Loss: 4.1184, Loss_eval: 4.2072, Learning Rate: 5.000000e-05\n"
     ]
    },
    {
     "name": "stdout",
     "output_type": "stream",
     "text": [
      "Step 42000, Loss: 3.9571, Loss_eval: 4.2182, Learning Rate: 5.000000e-05\n"
     ]
    },
    {
     "name": "stdout",
     "output_type": "stream",
     "text": [
      "Step 42500, Loss: 4.1777, Loss_eval: 4.2276, Learning Rate: 5.000000e-05\n"
     ]
    },
    {
     "name": "stdout",
     "output_type": "stream",
     "text": [
      "Step 43000, Loss: 3.9517, Loss_eval: 4.2079, Learning Rate: 5.000000e-05\n"
     ]
    },
    {
     "name": "stdout",
     "output_type": "stream",
     "text": [
      "Step 43500, Loss: 4.0016, Loss_eval: 4.2327, Learning Rate: 5.000000e-05\n"
     ]
    },
    {
     "name": "stdout",
     "output_type": "stream",
     "text": [
      "Epoch 3/3\n"
     ]
    },
    {
     "data": {
      "application/vnd.jupyter.widget-view+json": {
       "model_id": "de4a79b3e8a5444383b660ce529bf09e",
       "version_major": 2,
       "version_minor": 0
      },
      "text/plain": [
       "Training:   0%|          | 0/43829 [00:00<?, ?it/s]"
      ]
     },
     "metadata": {},
     "output_type": "display_data"
    },
    {
     "name": "stdout",
     "output_type": "stream",
     "text": [
      "Step 500, Loss: 4.2672, Loss_eval: 4.1771, Learning Rate: 5.000000e-05\n"
     ]
    },
    {
     "name": "stdout",
     "output_type": "stream",
     "text": [
      "Step 1000, Loss: 3.9845, Loss_eval: 4.2392, Learning Rate: 5.000000e-05\n"
     ]
    },
    {
     "name": "stdout",
     "output_type": "stream",
     "text": [
      "Step 1500, Loss: 4.0898, Loss_eval: 4.1906, Learning Rate: 5.000000e-05\n"
     ]
    },
    {
     "name": "stdout",
     "output_type": "stream",
     "text": [
      "Step 2000, Loss: 4.0428, Loss_eval: 4.1655, Learning Rate: 5.000000e-05\n"
     ]
    },
    {
     "name": "stdout",
     "output_type": "stream",
     "text": [
      "Step 2500, Loss: 3.8855, Loss_eval: 4.1604, Learning Rate: 5.000000e-05\n"
     ]
    },
    {
     "name": "stdout",
     "output_type": "stream",
     "text": [
      "Step 3000, Loss: 4.1697, Loss_eval: 4.1243, Learning Rate: 5.000000e-05\n"
     ]
    },
    {
     "name": "stdout",
     "output_type": "stream",
     "text": [
      "Step 3500, Loss: 4.1055, Loss_eval: 4.1796, Learning Rate: 5.000000e-05\n"
     ]
    },
    {
     "name": "stdout",
     "output_type": "stream",
     "text": [
      "Step 4000, Loss: 3.9769, Loss_eval: 4.1168, Learning Rate: 5.000000e-05\n"
     ]
    },
    {
     "name": "stdout",
     "output_type": "stream",
     "text": [
      "Step 4500, Loss: 4.1548, Loss_eval: 4.1679, Learning Rate: 5.000000e-05\n"
     ]
    },
    {
     "name": "stdout",
     "output_type": "stream",
     "text": [
      "Step 5000, Loss: 3.9806, Loss_eval: 4.2212, Learning Rate: 5.000000e-05\n"
     ]
    },
    {
     "name": "stdout",
     "output_type": "stream",
     "text": [
      "Step 5500, Loss: 3.9581, Loss_eval: 4.1952, Learning Rate: 5.000000e-05\n"
     ]
    },
    {
     "name": "stdout",
     "output_type": "stream",
     "text": [
      "Step 6000, Loss: 4.0820, Loss_eval: 4.1211, Learning Rate: 5.000000e-05\n"
     ]
    },
    {
     "name": "stdout",
     "output_type": "stream",
     "text": [
      "Step 6500, Loss: 4.1856, Loss_eval: 4.1519, Learning Rate: 5.000000e-05\n"
     ]
    },
    {
     "name": "stdout",
     "output_type": "stream",
     "text": [
      "Step 7000, Loss: 4.0747, Loss_eval: 4.1640, Learning Rate: 5.000000e-05\n"
     ]
    },
    {
     "name": "stdout",
     "output_type": "stream",
     "text": [
      "Step 7500, Loss: 4.2589, Loss_eval: 4.1910, Learning Rate: 5.000000e-05\n"
     ]
    },
    {
     "name": "stdout",
     "output_type": "stream",
     "text": [
      "Step 8000, Loss: 3.9743, Loss_eval: 4.1010, Learning Rate: 5.000000e-05\n"
     ]
    },
    {
     "name": "stdout",
     "output_type": "stream",
     "text": [
      "Step 8500, Loss: 4.0042, Loss_eval: 4.2219, Learning Rate: 5.000000e-05\n"
     ]
    },
    {
     "name": "stdout",
     "output_type": "stream",
     "text": [
      "Step 9000, Loss: 3.9052, Loss_eval: 4.1251, Learning Rate: 5.000000e-05\n"
     ]
    },
    {
     "name": "stdout",
     "output_type": "stream",
     "text": [
      "Step 9500, Loss: 3.9488, Loss_eval: 4.1004, Learning Rate: 5.000000e-05\n"
     ]
    },
    {
     "name": "stdout",
     "output_type": "stream",
     "text": [
      "Step 10000, Loss: 4.0766, Loss_eval: 4.1115, Learning Rate: 5.000000e-05\n"
     ]
    },
    {
     "name": "stdout",
     "output_type": "stream",
     "text": [
      "Step 10500, Loss: 4.2130, Loss_eval: 4.1241, Learning Rate: 5.000000e-05\n"
     ]
    },
    {
     "name": "stdout",
     "output_type": "stream",
     "text": [
      "Step 11000, Loss: 3.7738, Loss_eval: 4.1146, Learning Rate: 5.000000e-05\n"
     ]
    },
    {
     "name": "stdout",
     "output_type": "stream",
     "text": [
      "Step 11500, Loss: 3.7793, Loss_eval: 4.1402, Learning Rate: 5.000000e-05\n"
     ]
    },
    {
     "name": "stdout",
     "output_type": "stream",
     "text": [
      "Step 12000, Loss: 4.1905, Loss_eval: 4.1808, Learning Rate: 5.000000e-05\n"
     ]
    },
    {
     "name": "stdout",
     "output_type": "stream",
     "text": [
      "Step 12500, Loss: 3.9797, Loss_eval: 4.1628, Learning Rate: 5.000000e-05\n"
     ]
    },
    {
     "name": "stdout",
     "output_type": "stream",
     "text": [
      "Step 13000, Loss: 4.1650, Loss_eval: 4.1191, Learning Rate: 5.000000e-05\n"
     ]
    },
    {
     "name": "stdout",
     "output_type": "stream",
     "text": [
      "Step 13500, Loss: 4.0206, Loss_eval: 4.1191, Learning Rate: 5.000000e-05\n"
     ]
    },
    {
     "name": "stdout",
     "output_type": "stream",
     "text": [
      "Step 14000, Loss: 3.6280, Loss_eval: 4.1402, Learning Rate: 5.000000e-05\n"
     ]
    },
    {
     "name": "stdout",
     "output_type": "stream",
     "text": [
      "Step 14500, Loss: 3.8559, Loss_eval: 4.1116, Learning Rate: 5.000000e-05\n"
     ]
    },
    {
     "name": "stdout",
     "output_type": "stream",
     "text": [
      "Step 15000, Loss: 3.9599, Loss_eval: 4.0565, Learning Rate: 5.000000e-05\n"
     ]
    },
    {
     "name": "stdout",
     "output_type": "stream",
     "text": [
      "Step 15500, Loss: 4.1237, Loss_eval: 4.1064, Learning Rate: 5.000000e-05\n"
     ]
    },
    {
     "name": "stdout",
     "output_type": "stream",
     "text": [
      "Step 16000, Loss: 4.0132, Loss_eval: 4.1105, Learning Rate: 5.000000e-05\n"
     ]
    },
    {
     "name": "stdout",
     "output_type": "stream",
     "text": [
      "Step 16500, Loss: 3.9136, Loss_eval: 4.0795, Learning Rate: 5.000000e-05\n"
     ]
    },
    {
     "name": "stdout",
     "output_type": "stream",
     "text": [
      "Step 17000, Loss: 4.0945, Loss_eval: 4.0882, Learning Rate: 5.000000e-05\n"
     ]
    },
    {
     "name": "stdout",
     "output_type": "stream",
     "text": [
      "Step 17500, Loss: 4.2119, Loss_eval: 4.1412, Learning Rate: 5.000000e-05\n"
     ]
    },
    {
     "name": "stdout",
     "output_type": "stream",
     "text": [
      "Step 18000, Loss: 4.1412, Loss_eval: 4.0939, Learning Rate: 5.000000e-05\n"
     ]
    },
    {
     "name": "stdout",
     "output_type": "stream",
     "text": [
      "Step 18500, Loss: 3.9438, Loss_eval: 4.0703, Learning Rate: 5.000000e-05\n"
     ]
    },
    {
     "name": "stdout",
     "output_type": "stream",
     "text": [
      "Step 19000, Loss: 3.9838, Loss_eval: 4.0958, Learning Rate: 5.000000e-05\n"
     ]
    },
    {
     "name": "stdout",
     "output_type": "stream",
     "text": [
      "Step 19500, Loss: 4.0591, Loss_eval: 4.1148, Learning Rate: 5.000000e-05\n"
     ]
    },
    {
     "name": "stdout",
     "output_type": "stream",
     "text": [
      "Step 20000, Loss: 4.0843, Loss_eval: 4.1214, Learning Rate: 5.000000e-05\n"
     ]
    },
    {
     "name": "stdout",
     "output_type": "stream",
     "text": [
      "Step 20500, Loss: 3.9188, Loss_eval: 4.1105, Learning Rate: 5.000000e-05\n"
     ]
    },
    {
     "name": "stdout",
     "output_type": "stream",
     "text": [
      "Step 21000, Loss: 3.6908, Loss_eval: 4.0646, Learning Rate: 5.000000e-05\n"
     ]
    },
    {
     "name": "stdout",
     "output_type": "stream",
     "text": [
      "Step 21500, Loss: 3.9989, Loss_eval: 4.1028, Learning Rate: 5.000000e-05\n"
     ]
    },
    {
     "name": "stdout",
     "output_type": "stream",
     "text": [
      "Step 22000, Loss: 3.9729, Loss_eval: 4.0440, Learning Rate: 5.000000e-05\n"
     ]
    },
    {
     "name": "stdout",
     "output_type": "stream",
     "text": [
      "Step 22500, Loss: 3.7571, Loss_eval: 4.1139, Learning Rate: 5.000000e-05\n"
     ]
    },
    {
     "name": "stdout",
     "output_type": "stream",
     "text": [
      "Step 23000, Loss: 3.8349, Loss_eval: 4.1048, Learning Rate: 5.000000e-05\n"
     ]
    },
    {
     "name": "stdout",
     "output_type": "stream",
     "text": [
      "Step 23500, Loss: 3.8821, Loss_eval: 4.0910, Learning Rate: 5.000000e-05\n"
     ]
    },
    {
     "name": "stdout",
     "output_type": "stream",
     "text": [
      "Step 24000, Loss: 3.9247, Loss_eval: 4.0810, Learning Rate: 5.000000e-05\n"
     ]
    },
    {
     "name": "stdout",
     "output_type": "stream",
     "text": [
      "Step 24500, Loss: 3.8892, Loss_eval: 4.0287, Learning Rate: 5.000000e-05\n"
     ]
    },
    {
     "name": "stdout",
     "output_type": "stream",
     "text": [
      "Step 25000, Loss: 3.6838, Loss_eval: 4.0216, Learning Rate: 5.000000e-05\n"
     ]
    },
    {
     "name": "stdout",
     "output_type": "stream",
     "text": [
      "Step 25500, Loss: 3.8452, Loss_eval: 4.0387, Learning Rate: 5.000000e-05\n"
     ]
    },
    {
     "name": "stdout",
     "output_type": "stream",
     "text": [
      "Step 26000, Loss: 3.8430, Loss_eval: 4.0082, Learning Rate: 5.000000e-05\n"
     ]
    },
    {
     "name": "stdout",
     "output_type": "stream",
     "text": [
      "Step 26500, Loss: 4.0894, Loss_eval: 4.0964, Learning Rate: 5.000000e-05\n"
     ]
    },
    {
     "name": "stdout",
     "output_type": "stream",
     "text": [
      "Step 27000, Loss: 3.8528, Loss_eval: 4.0047, Learning Rate: 5.000000e-05\n"
     ]
    },
    {
     "name": "stdout",
     "output_type": "stream",
     "text": [
      "Step 27500, Loss: 3.7685, Loss_eval: 4.0337, Learning Rate: 5.000000e-05\n"
     ]
    },
    {
     "name": "stdout",
     "output_type": "stream",
     "text": [
      "Step 28000, Loss: 4.0506, Loss_eval: 4.0738, Learning Rate: 5.000000e-05\n"
     ]
    },
    {
     "name": "stdout",
     "output_type": "stream",
     "text": [
      "Step 28500, Loss: 3.9945, Loss_eval: 4.0581, Learning Rate: 5.000000e-05\n"
     ]
    },
    {
     "name": "stdout",
     "output_type": "stream",
     "text": [
      "Step 29000, Loss: 3.9281, Loss_eval: 4.0635, Learning Rate: 5.000000e-05\n"
     ]
    },
    {
     "name": "stdout",
     "output_type": "stream",
     "text": [
      "Step 29500, Loss: 3.8333, Loss_eval: 4.0672, Learning Rate: 5.000000e-05\n"
     ]
    },
    {
     "name": "stdout",
     "output_type": "stream",
     "text": [
      "Step 30000, Loss: 3.7986, Loss_eval: 4.0324, Learning Rate: 5.000000e-05\n"
     ]
    },
    {
     "name": "stdout",
     "output_type": "stream",
     "text": [
      "Step 30500, Loss: 3.9659, Loss_eval: 4.0108, Learning Rate: 5.000000e-05\n"
     ]
    },
    {
     "name": "stdout",
     "output_type": "stream",
     "text": [
      "Step 31000, Loss: 3.8813, Loss_eval: 3.9804, Learning Rate: 5.000000e-05\n"
     ]
    },
    {
     "name": "stdout",
     "output_type": "stream",
     "text": [
      "Step 31500, Loss: 4.0449, Loss_eval: 4.0726, Learning Rate: 5.000000e-05\n"
     ]
    },
    {
     "name": "stdout",
     "output_type": "stream",
     "text": [
      "Step 32000, Loss: 3.6909, Loss_eval: 4.0466, Learning Rate: 5.000000e-05\n"
     ]
    },
    {
     "name": "stdout",
     "output_type": "stream",
     "text": [
      "Step 32500, Loss: 4.1008, Loss_eval: 4.0534, Learning Rate: 5.000000e-05\n"
     ]
    },
    {
     "name": "stdout",
     "output_type": "stream",
     "text": [
      "Step 33000, Loss: 3.8260, Loss_eval: 4.0340, Learning Rate: 5.000000e-05\n"
     ]
    },
    {
     "name": "stdout",
     "output_type": "stream",
     "text": [
      "Step 33500, Loss: 3.6845, Loss_eval: 4.0109, Learning Rate: 5.000000e-05\n"
     ]
    },
    {
     "name": "stdout",
     "output_type": "stream",
     "text": [
      "Step 34000, Loss: 3.9018, Loss_eval: 4.0285, Learning Rate: 5.000000e-05\n"
     ]
    },
    {
     "name": "stdout",
     "output_type": "stream",
     "text": [
      "Step 34500, Loss: 3.6609, Loss_eval: 4.0485, Learning Rate: 5.000000e-05\n"
     ]
    },
    {
     "name": "stdout",
     "output_type": "stream",
     "text": [
      "Step 35000, Loss: 3.9068, Loss_eval: 4.0906, Learning Rate: 5.000000e-05\n"
     ]
    },
    {
     "name": "stdout",
     "output_type": "stream",
     "text": [
      "Step 35500, Loss: 3.6617, Loss_eval: 4.0867, Learning Rate: 5.000000e-05\n"
     ]
    },
    {
     "name": "stdout",
     "output_type": "stream",
     "text": [
      "Step 36000, Loss: 3.6750, Loss_eval: 4.0092, Learning Rate: 5.000000e-05\n"
     ]
    },
    {
     "name": "stdout",
     "output_type": "stream",
     "text": [
      "Step 36500, Loss: 3.9094, Loss_eval: 3.9788, Learning Rate: 5.000000e-05\n"
     ]
    },
    {
     "name": "stdout",
     "output_type": "stream",
     "text": [
      "Step 37000, Loss: 3.9971, Loss_eval: 3.9992, Learning Rate: 5.000000e-05\n"
     ]
    },
    {
     "name": "stdout",
     "output_type": "stream",
     "text": [
      "Step 37500, Loss: 3.9370, Loss_eval: 3.9971, Learning Rate: 5.000000e-05\n"
     ]
    },
    {
     "name": "stdout",
     "output_type": "stream",
     "text": [
      "Step 38000, Loss: 3.6858, Loss_eval: 4.0309, Learning Rate: 5.000000e-05\n"
     ]
    },
    {
     "name": "stdout",
     "output_type": "stream",
     "text": [
      "Step 38500, Loss: 3.8422, Loss_eval: 3.9990, Learning Rate: 5.000000e-05\n"
     ]
    },
    {
     "name": "stdout",
     "output_type": "stream",
     "text": [
      "Step 39000, Loss: 4.1292, Loss_eval: 3.9477, Learning Rate: 5.000000e-05\n"
     ]
    },
    {
     "name": "stdout",
     "output_type": "stream",
     "text": [
      "Step 39500, Loss: 3.8350, Loss_eval: 3.9974, Learning Rate: 5.000000e-05\n"
     ]
    },
    {
     "name": "stdout",
     "output_type": "stream",
     "text": [
      "Step 40000, Loss: 3.8578, Loss_eval: 4.0031, Learning Rate: 5.000000e-05\n"
     ]
    },
    {
     "name": "stdout",
     "output_type": "stream",
     "text": [
      "Step 40500, Loss: 4.2051, Loss_eval: 3.9700, Learning Rate: 5.000000e-05\n"
     ]
    },
    {
     "name": "stdout",
     "output_type": "stream",
     "text": [
      "Step 41000, Loss: 4.0388, Loss_eval: 4.0424, Learning Rate: 5.000000e-05\n"
     ]
    },
    {
     "name": "stdout",
     "output_type": "stream",
     "text": [
      "Step 41500, Loss: 3.6959, Loss_eval: 4.0481, Learning Rate: 5.000000e-05\n"
     ]
    },
    {
     "name": "stdout",
     "output_type": "stream",
     "text": [
      "Step 42000, Loss: 3.9138, Loss_eval: 4.0283, Learning Rate: 5.000000e-05\n"
     ]
    },
    {
     "name": "stdout",
     "output_type": "stream",
     "text": [
      "Step 42500, Loss: 3.9592, Loss_eval: 4.0408, Learning Rate: 5.000000e-05\n"
     ]
    },
    {
     "name": "stdout",
     "output_type": "stream",
     "text": [
      "Step 43000, Loss: 3.8775, Loss_eval: 3.9750, Learning Rate: 5.000000e-05\n"
     ]
    },
    {
     "name": "stdout",
     "output_type": "stream",
     "text": [
      "Step 43500, Loss: 3.9609, Loss_eval: 3.9706, Learning Rate: 5.000000e-05\n"
     ]
    }
   ],
   "source": [
    "optimizer.zero_grad()\n",
    "model.train()\n",
    "device = next(model.parameters()).device\n",
    "accum_steps = 10\n",
    "\n",
    "for epoch in range(num_epochs):\n",
    "    print(f\"Epoch {epoch+1}/{num_epochs}\")\n",
    "    for step, batch in enumerate(tqdm(loader_train, desc=\"Training\")):\n",
    "        batch = batch.to(device)\n",
    "        loss_train = train_step(model, \n",
    "                          batch, \n",
    "                          criterion, \n",
    "                          optimizer, \n",
    "                          scaler, \n",
    "                          scheduler, \n",
    "                          accum_steps,\n",
    "                          step).item()\n",
    "        if (step+1) % 500 == 0:\n",
    "            model.eval()\n",
    "            lr = scheduler.get_last_lr()[0]\n",
    "            iter_test = iter(loader_test)\n",
    "            with torch.no_grad():\n",
    "                loss_eval = np.mean([forward_and_loss(model, next(iter_test).to(device), criterion).item() for _ in range(accum_steps)])\n",
    "                print(f\"Step {step+1}, Loss: {loss_train:<.4f}, Loss_eval: {loss_eval:<.4f}, Learning Rate: {lr:4e}\")\n",
    "\n",
    "            loss_train_list.append(loss_train)\n",
    "            loss_eval_list.append(loss_eval)\n",
    "\n",
    "            model.train()\n",
    "\n",
    "        if (step+1) % 5000 == 0:\n",
    "            save_checkpoint(model, \n",
    "                            optimizer, \n",
    "                            scheduler, \n",
    "                            filename=filename)\n",
    "            saver(\"loss_train_alt3.pkl\", loss_train_list)\n",
    "            saver(\"loss_eval_alt3.pkl\", loss_eval_list)\n",
    "\n",
    "    save_checkpoint(model, \n",
    "                    optimizer, \n",
    "                    scheduler, \n",
    "                    filename=filename)\n",
    "    saver(\"loss_train_alt3.pkl\", loss_train_list)\n",
    "    saver(\"loss_eval_alt3.pkl\", loss_eval_list)\n"
   ]
  }
 ],
 "metadata": {
  "kernelspec": {
   "display_name": "env_pytorch",
   "language": "python",
   "name": "python3"
  },
  "language_info": {
   "codemirror_mode": {
    "name": "ipython",
    "version": 3
   },
   "file_extension": ".py",
   "mimetype": "text/x-python",
   "name": "python",
   "nbconvert_exporter": "python",
   "pygments_lexer": "ipython3",
   "version": "3.12.2"
  },
  "widgets": {
   "application/vnd.jupyter.widget-state+json": {
    "state": {
     "00297839940a46bd8113b026c095549c": {
      "model_module": "@jupyter-widgets/base",
      "model_module_version": "2.0.0",
      "model_name": "LayoutModel",
      "state": {
       "_model_module": "@jupyter-widgets/base",
       "_model_module_version": "2.0.0",
       "_model_name": "LayoutModel",
       "_view_count": null,
       "_view_module": "@jupyter-widgets/base",
       "_view_module_version": "2.0.0",
       "_view_name": "LayoutView",
       "align_content": null,
       "align_items": null,
       "align_self": null,
       "border_bottom": null,
       "border_left": null,
       "border_right": null,
       "border_top": null,
       "bottom": null,
       "display": null,
       "flex": null,
       "flex_flow": null,
       "grid_area": null,
       "grid_auto_columns": null,
       "grid_auto_flow": null,
       "grid_auto_rows": null,
       "grid_column": null,
       "grid_gap": null,
       "grid_row": null,
       "grid_template_areas": null,
       "grid_template_columns": null,
       "grid_template_rows": null,
       "height": null,
       "justify_content": null,
       "justify_items": null,
       "left": null,
       "margin": null,
       "max_height": null,
       "max_width": null,
       "min_height": null,
       "min_width": null,
       "object_fit": null,
       "object_position": null,
       "order": null,
       "overflow": null,
       "padding": null,
       "right": null,
       "top": null,
       "visibility": null,
       "width": null
      }
     },
     "153fa8cdc86646fb9004881c6dec5ce7": {
      "model_module": "@jupyter-widgets/controls",
      "model_module_version": "2.0.0",
      "model_name": "HTMLStyleModel",
      "state": {
       "_model_module": "@jupyter-widgets/controls",
       "_model_module_version": "2.0.0",
       "_model_name": "HTMLStyleModel",
       "_view_count": null,
       "_view_module": "@jupyter-widgets/base",
       "_view_module_version": "2.0.0",
       "_view_name": "StyleView",
       "background": null,
       "description_width": "",
       "font_size": null,
       "text_color": null
      }
     },
     "168008486d0344498a25e331e7524722": {
      "model_module": "@jupyter-widgets/controls",
      "model_module_version": "2.0.0",
      "model_name": "HBoxModel",
      "state": {
       "_dom_classes": [],
       "_model_module": "@jupyter-widgets/controls",
       "_model_module_version": "2.0.0",
       "_model_name": "HBoxModel",
       "_view_count": null,
       "_view_module": "@jupyter-widgets/controls",
       "_view_module_version": "2.0.0",
       "_view_name": "HBoxView",
       "box_style": "",
       "children": [
        "IPY_MODEL_e7cdb9eed36043c38730dd69ee8dbfae",
        "IPY_MODEL_d0cc290d898f49f0996bf653354e3300",
        "IPY_MODEL_b7b99886811d43a58cce373478dbe635"
       ],
       "layout": "IPY_MODEL_e10b89ea716c41d58db260eaf76f8f16",
       "tabbable": null,
       "tooltip": null
      }
     },
     "20e7d17a677f41409e07a6d9409ac84a": {
      "model_module": "@jupyter-widgets/base",
      "model_module_version": "2.0.0",
      "model_name": "LayoutModel",
      "state": {
       "_model_module": "@jupyter-widgets/base",
       "_model_module_version": "2.0.0",
       "_model_name": "LayoutModel",
       "_view_count": null,
       "_view_module": "@jupyter-widgets/base",
       "_view_module_version": "2.0.0",
       "_view_name": "LayoutView",
       "align_content": null,
       "align_items": null,
       "align_self": null,
       "border_bottom": null,
       "border_left": null,
       "border_right": null,
       "border_top": null,
       "bottom": null,
       "display": null,
       "flex": null,
       "flex_flow": null,
       "grid_area": null,
       "grid_auto_columns": null,
       "grid_auto_flow": null,
       "grid_auto_rows": null,
       "grid_column": null,
       "grid_gap": null,
       "grid_row": null,
       "grid_template_areas": null,
       "grid_template_columns": null,
       "grid_template_rows": null,
       "height": null,
       "justify_content": null,
       "justify_items": null,
       "left": null,
       "margin": null,
       "max_height": null,
       "max_width": null,
       "min_height": null,
       "min_width": null,
       "object_fit": null,
       "object_position": null,
       "order": null,
       "overflow": null,
       "padding": null,
       "right": null,
       "top": null,
       "visibility": null,
       "width": null
      }
     },
     "232e2c10ba584b95a22eb392d332a400": {
      "model_module": "@jupyter-widgets/controls",
      "model_module_version": "2.0.0",
      "model_name": "FloatProgressModel",
      "state": {
       "_dom_classes": [],
       "_model_module": "@jupyter-widgets/controls",
       "_model_module_version": "2.0.0",
       "_model_name": "FloatProgressModel",
       "_view_count": null,
       "_view_module": "@jupyter-widgets/controls",
       "_view_module_version": "2.0.0",
       "_view_name": "ProgressView",
       "bar_style": "success",
       "description": "",
       "description_allow_html": false,
       "layout": "IPY_MODEL_9fda66acedb84d5f8f38f3de3481a17e",
       "max": 43829.0,
       "min": 0.0,
       "orientation": "horizontal",
       "style": "IPY_MODEL_4d87346c0abb405a9884dfe747e5d5ec",
       "tabbable": null,
       "tooltip": null,
       "value": 43829.0
      }
     },
     "263a697d306446f583bb8d0d9983dac3": {
      "model_module": "@jupyter-widgets/controls",
      "model_module_version": "2.0.0",
      "model_name": "HTMLModel",
      "state": {
       "_dom_classes": [],
       "_model_module": "@jupyter-widgets/controls",
       "_model_module_version": "2.0.0",
       "_model_name": "HTMLModel",
       "_view_count": null,
       "_view_module": "@jupyter-widgets/controls",
       "_view_module_version": "2.0.0",
       "_view_name": "HTMLView",
       "description": "",
       "description_allow_html": false,
       "layout": "IPY_MODEL_e103f950b6e048b898d2584d8dd95964",
       "placeholder": "​",
       "style": "IPY_MODEL_30589fa283574e38b69893304da04030",
       "tabbable": null,
       "tooltip": null,
       "value": " 43829/43829 [1:12:36&lt;00:00, 10.22it/s]"
      }
     },
     "273defcd396e4192a6d6e809952fa8eb": {
      "model_module": "@jupyter-widgets/base",
      "model_module_version": "2.0.0",
      "model_name": "LayoutModel",
      "state": {
       "_model_module": "@jupyter-widgets/base",
       "_model_module_version": "2.0.0",
       "_model_name": "LayoutModel",
       "_view_count": null,
       "_view_module": "@jupyter-widgets/base",
       "_view_module_version": "2.0.0",
       "_view_name": "LayoutView",
       "align_content": null,
       "align_items": null,
       "align_self": null,
       "border_bottom": null,
       "border_left": null,
       "border_right": null,
       "border_top": null,
       "bottom": null,
       "display": null,
       "flex": null,
       "flex_flow": null,
       "grid_area": null,
       "grid_auto_columns": null,
       "grid_auto_flow": null,
       "grid_auto_rows": null,
       "grid_column": null,
       "grid_gap": null,
       "grid_row": null,
       "grid_template_areas": null,
       "grid_template_columns": null,
       "grid_template_rows": null,
       "height": null,
       "justify_content": null,
       "justify_items": null,
       "left": null,
       "margin": null,
       "max_height": null,
       "max_width": null,
       "min_height": null,
       "min_width": null,
       "object_fit": null,
       "object_position": null,
       "order": null,
       "overflow": null,
       "padding": null,
       "right": null,
       "top": null,
       "visibility": null,
       "width": null
      }
     },
     "30589fa283574e38b69893304da04030": {
      "model_module": "@jupyter-widgets/controls",
      "model_module_version": "2.0.0",
      "model_name": "HTMLStyleModel",
      "state": {
       "_model_module": "@jupyter-widgets/controls",
       "_model_module_version": "2.0.0",
       "_model_name": "HTMLStyleModel",
       "_view_count": null,
       "_view_module": "@jupyter-widgets/base",
       "_view_module_version": "2.0.0",
       "_view_name": "StyleView",
       "background": null,
       "description_width": "",
       "font_size": null,
       "text_color": null
      }
     },
     "32bd08eb379a425fab81ce9ab194a0e0": {
      "model_module": "@jupyter-widgets/base",
      "model_module_version": "2.0.0",
      "model_name": "LayoutModel",
      "state": {
       "_model_module": "@jupyter-widgets/base",
       "_model_module_version": "2.0.0",
       "_model_name": "LayoutModel",
       "_view_count": null,
       "_view_module": "@jupyter-widgets/base",
       "_view_module_version": "2.0.0",
       "_view_name": "LayoutView",
       "align_content": null,
       "align_items": null,
       "align_self": null,
       "border_bottom": null,
       "border_left": null,
       "border_right": null,
       "border_top": null,
       "bottom": null,
       "display": null,
       "flex": null,
       "flex_flow": null,
       "grid_area": null,
       "grid_auto_columns": null,
       "grid_auto_flow": null,
       "grid_auto_rows": null,
       "grid_column": null,
       "grid_gap": null,
       "grid_row": null,
       "grid_template_areas": null,
       "grid_template_columns": null,
       "grid_template_rows": null,
       "height": null,
       "justify_content": null,
       "justify_items": null,
       "left": null,
       "margin": null,
       "max_height": null,
       "max_width": null,
       "min_height": null,
       "min_width": null,
       "object_fit": null,
       "object_position": null,
       "order": null,
       "overflow": null,
       "padding": null,
       "right": null,
       "top": null,
       "visibility": null,
       "width": null
      }
     },
     "33b266519ac647e7a54787bc22261d8a": {
      "model_module": "@jupyter-widgets/controls",
      "model_module_version": "2.0.0",
      "model_name": "HTMLStyleModel",
      "state": {
       "_model_module": "@jupyter-widgets/controls",
       "_model_module_version": "2.0.0",
       "_model_name": "HTMLStyleModel",
       "_view_count": null,
       "_view_module": "@jupyter-widgets/base",
       "_view_module_version": "2.0.0",
       "_view_name": "StyleView",
       "background": null,
       "description_width": "",
       "font_size": null,
       "text_color": null
      }
     },
     "33e45e27ff7741d185ec4a94ac28061f": {
      "model_module": "@jupyter-widgets/controls",
      "model_module_version": "2.0.0",
      "model_name": "HTMLStyleModel",
      "state": {
       "_model_module": "@jupyter-widgets/controls",
       "_model_module_version": "2.0.0",
       "_model_name": "HTMLStyleModel",
       "_view_count": null,
       "_view_module": "@jupyter-widgets/base",
       "_view_module_version": "2.0.0",
       "_view_name": "StyleView",
       "background": null,
       "description_width": "",
       "font_size": null,
       "text_color": null
      }
     },
     "34fd13592d864525beff40c2ddac915c": {
      "model_module": "@jupyter-widgets/controls",
      "model_module_version": "2.0.0",
      "model_name": "HTMLModel",
      "state": {
       "_dom_classes": [],
       "_model_module": "@jupyter-widgets/controls",
       "_model_module_version": "2.0.0",
       "_model_name": "HTMLModel",
       "_view_count": null,
       "_view_module": "@jupyter-widgets/controls",
       "_view_module_version": "2.0.0",
       "_view_name": "HTMLView",
       "description": "",
       "description_allow_html": false,
       "layout": "IPY_MODEL_273defcd396e4192a6d6e809952fa8eb",
       "placeholder": "​",
       "style": "IPY_MODEL_33b266519ac647e7a54787bc22261d8a",
       "tabbable": null,
       "tooltip": null,
       "value": " 43829/43829 [1:14:48&lt;00:00, 10.30it/s]"
      }
     },
     "3907fe0b39a949b9827a6922536ebd5b": {
      "model_module": "@jupyter-widgets/controls",
      "model_module_version": "2.0.0",
      "model_name": "ProgressStyleModel",
      "state": {
       "_model_module": "@jupyter-widgets/controls",
       "_model_module_version": "2.0.0",
       "_model_name": "ProgressStyleModel",
       "_view_count": null,
       "_view_module": "@jupyter-widgets/base",
       "_view_module_version": "2.0.0",
       "_view_name": "StyleView",
       "bar_color": null,
       "description_width": ""
      }
     },
     "4d87346c0abb405a9884dfe747e5d5ec": {
      "model_module": "@jupyter-widgets/controls",
      "model_module_version": "2.0.0",
      "model_name": "ProgressStyleModel",
      "state": {
       "_model_module": "@jupyter-widgets/controls",
       "_model_module_version": "2.0.0",
       "_model_name": "ProgressStyleModel",
       "_view_count": null,
       "_view_module": "@jupyter-widgets/base",
       "_view_module_version": "2.0.0",
       "_view_name": "StyleView",
       "bar_color": null,
       "description_width": ""
      }
     },
     "547f4a5677b547d7adc549085bd69e79": {
      "model_module": "@jupyter-widgets/controls",
      "model_module_version": "2.0.0",
      "model_name": "HTMLStyleModel",
      "state": {
       "_model_module": "@jupyter-widgets/controls",
       "_model_module_version": "2.0.0",
       "_model_name": "HTMLStyleModel",
       "_view_count": null,
       "_view_module": "@jupyter-widgets/base",
       "_view_module_version": "2.0.0",
       "_view_name": "StyleView",
       "background": null,
       "description_width": "",
       "font_size": null,
       "text_color": null
      }
     },
     "6209e5459fa94057a165e1b17a36ad62": {
      "model_module": "@jupyter-widgets/controls",
      "model_module_version": "2.0.0",
      "model_name": "HTMLStyleModel",
      "state": {
       "_model_module": "@jupyter-widgets/controls",
       "_model_module_version": "2.0.0",
       "_model_name": "HTMLStyleModel",
       "_view_count": null,
       "_view_module": "@jupyter-widgets/base",
       "_view_module_version": "2.0.0",
       "_view_name": "StyleView",
       "background": null,
       "description_width": "",
       "font_size": null,
       "text_color": null
      }
     },
     "67911215ecca47d680035f04c8b5b355": {
      "model_module": "@jupyter-widgets/controls",
      "model_module_version": "2.0.0",
      "model_name": "ProgressStyleModel",
      "state": {
       "_model_module": "@jupyter-widgets/controls",
       "_model_module_version": "2.0.0",
       "_model_name": "ProgressStyleModel",
       "_view_count": null,
       "_view_module": "@jupyter-widgets/base",
       "_view_module_version": "2.0.0",
       "_view_name": "StyleView",
       "bar_color": null,
       "description_width": ""
      }
     },
     "734afb94b5b341e0ae500f3e93a8a3c6": {
      "model_module": "@jupyter-widgets/base",
      "model_module_version": "2.0.0",
      "model_name": "LayoutModel",
      "state": {
       "_model_module": "@jupyter-widgets/base",
       "_model_module_version": "2.0.0",
       "_model_name": "LayoutModel",
       "_view_count": null,
       "_view_module": "@jupyter-widgets/base",
       "_view_module_version": "2.0.0",
       "_view_name": "LayoutView",
       "align_content": null,
       "align_items": null,
       "align_self": null,
       "border_bottom": null,
       "border_left": null,
       "border_right": null,
       "border_top": null,
       "bottom": null,
       "display": null,
       "flex": null,
       "flex_flow": null,
       "grid_area": null,
       "grid_auto_columns": null,
       "grid_auto_flow": null,
       "grid_auto_rows": null,
       "grid_column": null,
       "grid_gap": null,
       "grid_row": null,
       "grid_template_areas": null,
       "grid_template_columns": null,
       "grid_template_rows": null,
       "height": null,
       "justify_content": null,
       "justify_items": null,
       "left": null,
       "margin": null,
       "max_height": null,
       "max_width": null,
       "min_height": null,
       "min_width": null,
       "object_fit": null,
       "object_position": null,
       "order": null,
       "overflow": null,
       "padding": null,
       "right": null,
       "top": null,
       "visibility": null,
       "width": null
      }
     },
     "9ac9416ea5de4c4ba107d9b32d1b1383": {
      "model_module": "@jupyter-widgets/base",
      "model_module_version": "2.0.0",
      "model_name": "LayoutModel",
      "state": {
       "_model_module": "@jupyter-widgets/base",
       "_model_module_version": "2.0.0",
       "_model_name": "LayoutModel",
       "_view_count": null,
       "_view_module": "@jupyter-widgets/base",
       "_view_module_version": "2.0.0",
       "_view_name": "LayoutView",
       "align_content": null,
       "align_items": null,
       "align_self": null,
       "border_bottom": null,
       "border_left": null,
       "border_right": null,
       "border_top": null,
       "bottom": null,
       "display": null,
       "flex": null,
       "flex_flow": null,
       "grid_area": null,
       "grid_auto_columns": null,
       "grid_auto_flow": null,
       "grid_auto_rows": null,
       "grid_column": null,
       "grid_gap": null,
       "grid_row": null,
       "grid_template_areas": null,
       "grid_template_columns": null,
       "grid_template_rows": null,
       "height": null,
       "justify_content": null,
       "justify_items": null,
       "left": null,
       "margin": null,
       "max_height": null,
       "max_width": null,
       "min_height": null,
       "min_width": null,
       "object_fit": null,
       "object_position": null,
       "order": null,
       "overflow": null,
       "padding": null,
       "right": null,
       "top": null,
       "visibility": null,
       "width": null
      }
     },
     "9fda66acedb84d5f8f38f3de3481a17e": {
      "model_module": "@jupyter-widgets/base",
      "model_module_version": "2.0.0",
      "model_name": "LayoutModel",
      "state": {
       "_model_module": "@jupyter-widgets/base",
       "_model_module_version": "2.0.0",
       "_model_name": "LayoutModel",
       "_view_count": null,
       "_view_module": "@jupyter-widgets/base",
       "_view_module_version": "2.0.0",
       "_view_name": "LayoutView",
       "align_content": null,
       "align_items": null,
       "align_self": null,
       "border_bottom": null,
       "border_left": null,
       "border_right": null,
       "border_top": null,
       "bottom": null,
       "display": null,
       "flex": null,
       "flex_flow": null,
       "grid_area": null,
       "grid_auto_columns": null,
       "grid_auto_flow": null,
       "grid_auto_rows": null,
       "grid_column": null,
       "grid_gap": null,
       "grid_row": null,
       "grid_template_areas": null,
       "grid_template_columns": null,
       "grid_template_rows": null,
       "height": null,
       "justify_content": null,
       "justify_items": null,
       "left": null,
       "margin": null,
       "max_height": null,
       "max_width": null,
       "min_height": null,
       "min_width": null,
       "object_fit": null,
       "object_position": null,
       "order": null,
       "overflow": null,
       "padding": null,
       "right": null,
       "top": null,
       "visibility": null,
       "width": null
      }
     },
     "aa3af6be95324df0936e93efd03e5fd4": {
      "model_module": "@jupyter-widgets/controls",
      "model_module_version": "2.0.0",
      "model_name": "FloatProgressModel",
      "state": {
       "_dom_classes": [],
       "_model_module": "@jupyter-widgets/controls",
       "_model_module_version": "2.0.0",
       "_model_name": "FloatProgressModel",
       "_view_count": null,
       "_view_module": "@jupyter-widgets/controls",
       "_view_module_version": "2.0.0",
       "_view_name": "ProgressView",
       "bar_style": "success",
       "description": "",
       "description_allow_html": false,
       "layout": "IPY_MODEL_32bd08eb379a425fab81ce9ab194a0e0",
       "max": 43829.0,
       "min": 0.0,
       "orientation": "horizontal",
       "style": "IPY_MODEL_3907fe0b39a949b9827a6922536ebd5b",
       "tabbable": null,
       "tooltip": null,
       "value": 43829.0
      }
     },
     "b30942be17244cd2aafe3b25eba27682": {
      "model_module": "@jupyter-widgets/base",
      "model_module_version": "2.0.0",
      "model_name": "LayoutModel",
      "state": {
       "_model_module": "@jupyter-widgets/base",
       "_model_module_version": "2.0.0",
       "_model_name": "LayoutModel",
       "_view_count": null,
       "_view_module": "@jupyter-widgets/base",
       "_view_module_version": "2.0.0",
       "_view_name": "LayoutView",
       "align_content": null,
       "align_items": null,
       "align_self": null,
       "border_bottom": null,
       "border_left": null,
       "border_right": null,
       "border_top": null,
       "bottom": null,
       "display": null,
       "flex": null,
       "flex_flow": null,
       "grid_area": null,
       "grid_auto_columns": null,
       "grid_auto_flow": null,
       "grid_auto_rows": null,
       "grid_column": null,
       "grid_gap": null,
       "grid_row": null,
       "grid_template_areas": null,
       "grid_template_columns": null,
       "grid_template_rows": null,
       "height": null,
       "justify_content": null,
       "justify_items": null,
       "left": null,
       "margin": null,
       "max_height": null,
       "max_width": null,
       "min_height": null,
       "min_width": null,
       "object_fit": null,
       "object_position": null,
       "order": null,
       "overflow": null,
       "padding": null,
       "right": null,
       "top": null,
       "visibility": null,
       "width": null
      }
     },
     "b7b99886811d43a58cce373478dbe635": {
      "model_module": "@jupyter-widgets/controls",
      "model_module_version": "2.0.0",
      "model_name": "HTMLModel",
      "state": {
       "_dom_classes": [],
       "_model_module": "@jupyter-widgets/controls",
       "_model_module_version": "2.0.0",
       "_model_name": "HTMLModel",
       "_view_count": null,
       "_view_module": "@jupyter-widgets/controls",
       "_view_module_version": "2.0.0",
       "_view_name": "HTMLView",
       "description": "",
       "description_allow_html": false,
       "layout": "IPY_MODEL_b30942be17244cd2aafe3b25eba27682",
       "placeholder": "​",
       "style": "IPY_MODEL_6209e5459fa94057a165e1b17a36ad62",
       "tabbable": null,
       "tooltip": null,
       "value": " 43829/43829 [1:12:26&lt;00:00, 10.37it/s]"
      }
     },
     "b8e4551b908c4b27b6866d52f7b3b263": {
      "model_module": "@jupyter-widgets/controls",
      "model_module_version": "2.0.0",
      "model_name": "HTMLModel",
      "state": {
       "_dom_classes": [],
       "_model_module": "@jupyter-widgets/controls",
       "_model_module_version": "2.0.0",
       "_model_name": "HTMLModel",
       "_view_count": null,
       "_view_module": "@jupyter-widgets/controls",
       "_view_module_version": "2.0.0",
       "_view_name": "HTMLView",
       "description": "",
       "description_allow_html": false,
       "layout": "IPY_MODEL_00297839940a46bd8113b026c095549c",
       "placeholder": "​",
       "style": "IPY_MODEL_547f4a5677b547d7adc549085bd69e79",
       "tabbable": null,
       "tooltip": null,
       "value": "Training: 100%"
      }
     },
     "d0cc290d898f49f0996bf653354e3300": {
      "model_module": "@jupyter-widgets/controls",
      "model_module_version": "2.0.0",
      "model_name": "FloatProgressModel",
      "state": {
       "_dom_classes": [],
       "_model_module": "@jupyter-widgets/controls",
       "_model_module_version": "2.0.0",
       "_model_name": "FloatProgressModel",
       "_view_count": null,
       "_view_module": "@jupyter-widgets/controls",
       "_view_module_version": "2.0.0",
       "_view_name": "ProgressView",
       "bar_style": "success",
       "description": "",
       "description_allow_html": false,
       "layout": "IPY_MODEL_20e7d17a677f41409e07a6d9409ac84a",
       "max": 43829.0,
       "min": 0.0,
       "orientation": "horizontal",
       "style": "IPY_MODEL_67911215ecca47d680035f04c8b5b355",
       "tabbable": null,
       "tooltip": null,
       "value": 43829.0
      }
     },
     "de4a79b3e8a5444383b660ce529bf09e": {
      "model_module": "@jupyter-widgets/controls",
      "model_module_version": "2.0.0",
      "model_name": "HBoxModel",
      "state": {
       "_dom_classes": [],
       "_model_module": "@jupyter-widgets/controls",
       "_model_module_version": "2.0.0",
       "_model_name": "HBoxModel",
       "_view_count": null,
       "_view_module": "@jupyter-widgets/controls",
       "_view_module_version": "2.0.0",
       "_view_name": "HBoxView",
       "box_style": "",
       "children": [
        "IPY_MODEL_ec20efe277464f22a0ad0a698fe1e837",
        "IPY_MODEL_232e2c10ba584b95a22eb392d332a400",
        "IPY_MODEL_263a697d306446f583bb8d0d9983dac3"
       ],
       "layout": "IPY_MODEL_deb1a44ce3f14e4c89e5216b4fe9a02b",
       "tabbable": null,
       "tooltip": null
      }
     },
     "deb1a44ce3f14e4c89e5216b4fe9a02b": {
      "model_module": "@jupyter-widgets/base",
      "model_module_version": "2.0.0",
      "model_name": "LayoutModel",
      "state": {
       "_model_module": "@jupyter-widgets/base",
       "_model_module_version": "2.0.0",
       "_model_name": "LayoutModel",
       "_view_count": null,
       "_view_module": "@jupyter-widgets/base",
       "_view_module_version": "2.0.0",
       "_view_name": "LayoutView",
       "align_content": null,
       "align_items": null,
       "align_self": null,
       "border_bottom": null,
       "border_left": null,
       "border_right": null,
       "border_top": null,
       "bottom": null,
       "display": null,
       "flex": null,
       "flex_flow": null,
       "grid_area": null,
       "grid_auto_columns": null,
       "grid_auto_flow": null,
       "grid_auto_rows": null,
       "grid_column": null,
       "grid_gap": null,
       "grid_row": null,
       "grid_template_areas": null,
       "grid_template_columns": null,
       "grid_template_rows": null,
       "height": null,
       "justify_content": null,
       "justify_items": null,
       "left": null,
       "margin": null,
       "max_height": null,
       "max_width": null,
       "min_height": null,
       "min_width": null,
       "object_fit": null,
       "object_position": null,
       "order": null,
       "overflow": null,
       "padding": null,
       "right": null,
       "top": null,
       "visibility": null,
       "width": null
      }
     },
     "e103f950b6e048b898d2584d8dd95964": {
      "model_module": "@jupyter-widgets/base",
      "model_module_version": "2.0.0",
      "model_name": "LayoutModel",
      "state": {
       "_model_module": "@jupyter-widgets/base",
       "_model_module_version": "2.0.0",
       "_model_name": "LayoutModel",
       "_view_count": null,
       "_view_module": "@jupyter-widgets/base",
       "_view_module_version": "2.0.0",
       "_view_name": "LayoutView",
       "align_content": null,
       "align_items": null,
       "align_self": null,
       "border_bottom": null,
       "border_left": null,
       "border_right": null,
       "border_top": null,
       "bottom": null,
       "display": null,
       "flex": null,
       "flex_flow": null,
       "grid_area": null,
       "grid_auto_columns": null,
       "grid_auto_flow": null,
       "grid_auto_rows": null,
       "grid_column": null,
       "grid_gap": null,
       "grid_row": null,
       "grid_template_areas": null,
       "grid_template_columns": null,
       "grid_template_rows": null,
       "height": null,
       "justify_content": null,
       "justify_items": null,
       "left": null,
       "margin": null,
       "max_height": null,
       "max_width": null,
       "min_height": null,
       "min_width": null,
       "object_fit": null,
       "object_position": null,
       "order": null,
       "overflow": null,
       "padding": null,
       "right": null,
       "top": null,
       "visibility": null,
       "width": null
      }
     },
     "e10b89ea716c41d58db260eaf76f8f16": {
      "model_module": "@jupyter-widgets/base",
      "model_module_version": "2.0.0",
      "model_name": "LayoutModel",
      "state": {
       "_model_module": "@jupyter-widgets/base",
       "_model_module_version": "2.0.0",
       "_model_name": "LayoutModel",
       "_view_count": null,
       "_view_module": "@jupyter-widgets/base",
       "_view_module_version": "2.0.0",
       "_view_name": "LayoutView",
       "align_content": null,
       "align_items": null,
       "align_self": null,
       "border_bottom": null,
       "border_left": null,
       "border_right": null,
       "border_top": null,
       "bottom": null,
       "display": null,
       "flex": null,
       "flex_flow": null,
       "grid_area": null,
       "grid_auto_columns": null,
       "grid_auto_flow": null,
       "grid_auto_rows": null,
       "grid_column": null,
       "grid_gap": null,
       "grid_row": null,
       "grid_template_areas": null,
       "grid_template_columns": null,
       "grid_template_rows": null,
       "height": null,
       "justify_content": null,
       "justify_items": null,
       "left": null,
       "margin": null,
       "max_height": null,
       "max_width": null,
       "min_height": null,
       "min_width": null,
       "object_fit": null,
       "object_position": null,
       "order": null,
       "overflow": null,
       "padding": null,
       "right": null,
       "top": null,
       "visibility": null,
       "width": null
      }
     },
     "e7cdb9eed36043c38730dd69ee8dbfae": {
      "model_module": "@jupyter-widgets/controls",
      "model_module_version": "2.0.0",
      "model_name": "HTMLModel",
      "state": {
       "_dom_classes": [],
       "_model_module": "@jupyter-widgets/controls",
       "_model_module_version": "2.0.0",
       "_model_name": "HTMLModel",
       "_view_count": null,
       "_view_module": "@jupyter-widgets/controls",
       "_view_module_version": "2.0.0",
       "_view_name": "HTMLView",
       "description": "",
       "description_allow_html": false,
       "layout": "IPY_MODEL_9ac9416ea5de4c4ba107d9b32d1b1383",
       "placeholder": "​",
       "style": "IPY_MODEL_33e45e27ff7741d185ec4a94ac28061f",
       "tabbable": null,
       "tooltip": null,
       "value": "Training: 100%"
      }
     },
     "ec20efe277464f22a0ad0a698fe1e837": {
      "model_module": "@jupyter-widgets/controls",
      "model_module_version": "2.0.0",
      "model_name": "HTMLModel",
      "state": {
       "_dom_classes": [],
       "_model_module": "@jupyter-widgets/controls",
       "_model_module_version": "2.0.0",
       "_model_name": "HTMLModel",
       "_view_count": null,
       "_view_module": "@jupyter-widgets/controls",
       "_view_module_version": "2.0.0",
       "_view_name": "HTMLView",
       "description": "",
       "description_allow_html": false,
       "layout": "IPY_MODEL_734afb94b5b341e0ae500f3e93a8a3c6",
       "placeholder": "​",
       "style": "IPY_MODEL_153fa8cdc86646fb9004881c6dec5ce7",
       "tabbable": null,
       "tooltip": null,
       "value": "Training: 100%"
      }
     },
     "ed961d4316ea4d2cb132495f2fa4b8d6": {
      "model_module": "@jupyter-widgets/base",
      "model_module_version": "2.0.0",
      "model_name": "LayoutModel",
      "state": {
       "_model_module": "@jupyter-widgets/base",
       "_model_module_version": "2.0.0",
       "_model_name": "LayoutModel",
       "_view_count": null,
       "_view_module": "@jupyter-widgets/base",
       "_view_module_version": "2.0.0",
       "_view_name": "LayoutView",
       "align_content": null,
       "align_items": null,
       "align_self": null,
       "border_bottom": null,
       "border_left": null,
       "border_right": null,
       "border_top": null,
       "bottom": null,
       "display": null,
       "flex": null,
       "flex_flow": null,
       "grid_area": null,
       "grid_auto_columns": null,
       "grid_auto_flow": null,
       "grid_auto_rows": null,
       "grid_column": null,
       "grid_gap": null,
       "grid_row": null,
       "grid_template_areas": null,
       "grid_template_columns": null,
       "grid_template_rows": null,
       "height": null,
       "justify_content": null,
       "justify_items": null,
       "left": null,
       "margin": null,
       "max_height": null,
       "max_width": null,
       "min_height": null,
       "min_width": null,
       "object_fit": null,
       "object_position": null,
       "order": null,
       "overflow": null,
       "padding": null,
       "right": null,
       "top": null,
       "visibility": null,
       "width": null
      }
     },
     "f44ef2cbe46140d78446f051a2976b52": {
      "model_module": "@jupyter-widgets/controls",
      "model_module_version": "2.0.0",
      "model_name": "HBoxModel",
      "state": {
       "_dom_classes": [],
       "_model_module": "@jupyter-widgets/controls",
       "_model_module_version": "2.0.0",
       "_model_name": "HBoxModel",
       "_view_count": null,
       "_view_module": "@jupyter-widgets/controls",
       "_view_module_version": "2.0.0",
       "_view_name": "HBoxView",
       "box_style": "",
       "children": [
        "IPY_MODEL_b8e4551b908c4b27b6866d52f7b3b263",
        "IPY_MODEL_aa3af6be95324df0936e93efd03e5fd4",
        "IPY_MODEL_34fd13592d864525beff40c2ddac915c"
       ],
       "layout": "IPY_MODEL_ed961d4316ea4d2cb132495f2fa4b8d6",
       "tabbable": null,
       "tooltip": null
      }
     }
    },
    "version_major": 2,
    "version_minor": 0
   }
  }
 },
 "nbformat": 4,
 "nbformat_minor": 5
}
