{
 "cells": [
  {
   "cell_type": "markdown",
   "id": "04010a08",
   "metadata": {},
   "source": [
    "## LLM"
   ]
  },
  {
   "cell_type": "code",
   "execution_count": 57,
   "id": "8fa3d166",
   "metadata": {},
   "outputs": [],
   "source": [
    "import sys\n",
    "sys.path.insert(0, '../src/')\n",
    "\n",
    "import matplotlib.pyplot as plt\n",
    "from tokenizer import TokenizerBPE\n",
    "from data_handling import normalize_to_ascii, clean_text\n",
    "from utils import saver, loader\n",
    "import numpy as np\n",
    "import re\n",
    "\n",
    "import os\n",
    "import pickle as pkl\n",
    "from tqdm.notebook import tqdm\n",
    "import json\n",
    "import random\n",
    "\n",
    "# disable gpu for testing purposes\n",
    "os.environ[\"CUDA_VISIBLE_DEVICES\"] = \"-1\"\n"
   ]
  },
  {
   "cell_type": "markdown",
   "id": "1f199c71",
   "metadata": {},
   "source": [
    "## Urban Dictionary"
   ]
  },
  {
   "cell_type": "code",
   "execution_count": 5,
   "id": "8d3f6ad7",
   "metadata": {},
   "outputs": [
    {
     "data": {
      "application/vnd.jupyter.widget-view+json": {
       "model_id": "f719be45f5ab4c9ea06e5dba61be9cf8",
       "version_major": 2,
       "version_minor": 0
      },
      "text/plain": [
       "0it [00:00, ?it/s]"
      ]
     },
     "metadata": {},
     "output_type": "display_data"
    }
   ],
   "source": [
    "data = []\n",
    "with open('../corpus/words.json', 'r') as f:\n",
    "    for line in tqdm(f):\n",
    "        data.append(json.loads(line))\n"
   ]
  },
  {
   "cell_type": "code",
   "execution_count": 66,
   "id": "8d69da19",
   "metadata": {},
   "outputs": [
    {
     "data": {
      "application/vnd.jupyter.widget-view+json": {
       "model_id": "d08fc762a58040fea6598ce71b15af97",
       "version_major": 2,
       "version_minor": 0
      },
      "text/plain": [
       "  0%|          | 0/2606521 [00:00<?, ?it/s]"
      ]
     },
     "metadata": {},
     "output_type": "display_data"
    }
   ],
   "source": [
    "example_list = []\n",
    "definition_list = []\n",
    "\n",
    "tu_list = []\n",
    "td_list = []\n",
    "\n",
    "for entry in tqdm(data):\n",
    "    thumbs_up = entry['thumbs_up']\n",
    "    tu_list.append(thumbs_up)\n",
    "    thumbs_down = entry['thumbs_down']\n",
    "    td_list.append(thumbs_down)\n",
    "    \n",
    "    word = entry['word']\n",
    "    definition = entry['definition']\n",
    "    example = entry['example']\n",
    "\n",
    "    if thumbs_up > 4*thumbs_down and thumbs_up > 100:\n",
    "        word = clean_text(normalize_to_ascii(word))\n",
    "        example = clean_text(normalize_to_ascii(example))\n",
    "        definition = clean_text(normalize_to_ascii(definition))\n",
    "\n",
    "        example_list.append(example)\n",
    "        definition_concat = word + ': ' + definition + '. example: ' + example\n",
    "        definition_list.append(definition_concat.replace('..', '.'))"
   ]
  },
  {
   "cell_type": "code",
   "execution_count": 67,
   "id": "edff3ae5",
   "metadata": {},
   "outputs": [
    {
     "name": "stdout",
     "output_type": "stream",
     "text": [
      "Number of examples: 45284\n",
      "19857084\n"
     ]
    }
   ],
   "source": [
    "print(f'Number of examples: {len(example_list)}')\n",
    "print(len(\"\".join(definition_list)))"
   ]
  },
  {
   "cell_type": "code",
   "execution_count": 68,
   "id": "aa65bf5e",
   "metadata": {},
   "outputs": [],
   "source": [
    "saver(\"../corpus/urbanDict_raw\", [definition_list, example_list])"
   ]
  },
  {
   "cell_type": "code",
   "execution_count": 8,
   "id": "a3d8bb59",
   "metadata": {},
   "outputs": [],
   "source": [
    "def fused_sqa(story_list, question_grouped_list, answer_grouped_list):\n",
    "    q =\"<q>\"\n",
    "    a = \"<a>\"\n",
    "    sos = \"<s>\"\n",
    "    eos = \"</s>\"\n",
    "\n",
    "    rcw = re.compile(r\"\\s+\")\n",
    "\n",
    "    corpus_list = []\n",
    "    for story, question_list, answer_list in tqdm(list(zip(story_list, question_grouped_list, answer_grouped_list))):\n",
    "        sqa = [sos, normalize_to_ascii(story).lower()]\n",
    "        for question, answer in zip(question_list, answer_list):\n",
    "            sqa.append(q)\n",
    "            sqa.append(normalize_to_ascii(question).lower())\n",
    "            sqa.append(a)\n",
    "            sqa.append(normalize_to_ascii(answer).lower())\n",
    "        sqa.append(eos)\n",
    "        corpus_list.append(\"\".join(sqa))\n",
    "        \n",
    "    return corpus_list"
   ]
  },
  {
   "cell_type": "code",
   "execution_count": 11,
   "id": "4e96eaf8",
   "metadata": {},
   "outputs": [
    {
     "data": {
      "application/vnd.jupyter.widget-view+json": {
       "model_id": "ea4bbc9de5b84abcb3ecc46ae582ad8c",
       "version_major": 2,
       "version_minor": 0
      },
      "text/plain": [
       "  0%|          | 0/7199 [00:00<?, ?it/s]"
      ]
     },
     "metadata": {},
     "output_type": "display_data"
    }
   ],
   "source": [
    "corpus_list = fused_sqa(context_list, question_grouped, answer_grouped)"
   ]
  },
  {
   "cell_type": "markdown",
   "id": "52a5f20b",
   "metadata": {},
   "source": [
    "## "
   ]
  }
 ],
 "metadata": {
  "kernelspec": {
   "display_name": "env_pytorch",
   "language": "python",
   "name": "python3"
  },
  "language_info": {
   "codemirror_mode": {
    "name": "ipython",
    "version": 3
   },
   "file_extension": ".py",
   "mimetype": "text/x-python",
   "name": "python",
   "nbconvert_exporter": "python",
   "pygments_lexer": "ipython3",
   "version": "3.12.2"
  }
 },
 "nbformat": 4,
 "nbformat_minor": 5
}
