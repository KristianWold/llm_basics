{
 "cells": [
  {
   "cell_type": "markdown",
   "id": "04010a08",
   "metadata": {},
   "source": [
    "## LLM"
   ]
  },
  {
   "cell_type": "code",
   "execution_count": 1,
   "id": "8fa3d166",
   "metadata": {},
   "outputs": [],
   "source": [
    "# set path\n",
    "\n",
    "import sys\n",
    "sys.path.insert(0, '../src/')\n",
    "\n",
    "import matplotlib.pyplot as plt\n",
    "from tokenizer import TokenizerBPE\n",
    "from data_handling import normalize_to_ascii, clean_text\n",
    "from utils import saver\n",
    "import numpy as np\n",
    "import re\n",
    "\n",
    "import os\n",
    "import pickle as pkl\n",
    "from tqdm.notebook import tqdm\n",
    "import json\n",
    "\n",
    "# disable gpu for testing purposes\n",
    "os.environ[\"CUDA_VISIBLE_DEVICES\"] = \"-1\"\n"
   ]
  },
  {
   "cell_type": "markdown",
   "id": "15ed7139",
   "metadata": {},
   "source": [
    "## Trivia Web"
   ]
  },
  {
   "cell_type": "code",
   "execution_count": 2,
   "id": "4a782972",
   "metadata": {},
   "outputs": [],
   "source": [
    "def get_top_n_evidence(n, rank, evidence_article):\n",
    "    top_n = []\n",
    "    for i in range(n):\n",
    "        article = evidence_article[rank[i][0]]\n",
    "        top_n.append(clean_text(normalize_to_ascii(article)))\n",
    "    return top_n"
   ]
  },
  {
   "cell_type": "code",
   "execution_count": 3,
   "id": "76f93d93",
   "metadata": {},
   "outputs": [
    {
     "data": {
      "application/vnd.jupyter.widget-view+json": {
       "model_id": "2239a17244b74ebbae7d42af788c7e18",
       "version_major": 2,
       "version_minor": 0
      },
      "text/plain": [
       "  0%|          | 0/76496 [00:00<?, ?it/s]"
      ]
     },
     "metadata": {},
     "output_type": "display_data"
    }
   ],
   "source": [
    "with open('../corpus/triviaqa-rc/qa/web-train.json', 'r', encoding='utf-8') as f:\n",
    "    squad = json.load(f)\n",
    "\n",
    "question_list = []\n",
    "answer_list = []\n",
    "evidence_list = []\n",
    "\n",
    "for qa in tqdm(squad['Data']):\n",
    "    question_list.append(clean_text(normalize_to_ascii(qa['Question'])))\n",
    "    answer_list.append(clean_text(normalize_to_ascii(qa['Answer'][\"Value\"])))\n",
    "    sr = qa['SearchResults']\n",
    "    if len(sr) > 0: \n",
    "        evidence_list.append(sr[0][\"Filename\"])\n",
    "    else:\n",
    "        evidence_list.append(None)"
   ]
  },
  {
   "cell_type": "code",
   "execution_count": 4,
   "id": "4090e18d",
   "metadata": {},
   "outputs": [
    {
     "data": {
      "application/vnd.jupyter.widget-view+json": {
       "model_id": "861e6f1645924594b11bd75a6947449e",
       "version_major": 2,
       "version_minor": 0
      },
      "text/plain": [
       "  0%|          | 0/76496 [00:00<?, ?it/s]"
      ]
     },
     "metadata": {},
     "output_type": "display_data"
    }
   ],
   "source": [
    "path = \"../corpus/triviaqa-rc/evidence/web/\"\n",
    "\n",
    "evidence_article = {}\n",
    "seen = {}\n",
    "\n",
    "for i, evidence in tqdm(list(enumerate(evidence_list))):\n",
    "    if evidence is not None:\n",
    "        evidence = evidence.replace(\":\", \"_\").replace(\"?\", \"_\").replace(\"*\", \"_\").replace('\"', \"_\")\n",
    "        if not evidence in seen:\n",
    "            seen[evidence] = 1\n",
    "            try:\n",
    "                txt = open(path + evidence, 'r', encoding='utf-8').read()\n",
    "                evidence_article[evidence] = txt\n",
    "            except:\n",
    "                print(\"Error reading file: \", evidence)\n",
    "                continue\n",
    "        else:\n",
    "            seen[evidence] += 1"
   ]
  },
  {
   "cell_type": "code",
   "execution_count": 5,
   "id": "98243205",
   "metadata": {},
   "outputs": [
    {
     "name": "stdout",
     "output_type": "stream",
     "text": [
      "1010596671\n",
      "64719\n"
     ]
    }
   ],
   "source": [
    "rank = [[evidence, freq] for freq, evidence in sorted(zip(seen.values(), seen.keys()), reverse=True)]\n",
    "\n",
    "article_list = get_top_n_evidence(len(rank), rank, evidence_article)\n",
    "\n",
    "print(len(\"\".join(article_list)))\n",
    "print(len(rank))"
   ]
  },
  {
   "cell_type": "code",
   "execution_count": 6,
   "id": "4c1cb796",
   "metadata": {},
   "outputs": [],
   "source": [
    "saver(\"../corpus/trivia_web_raw\", [article_list, question_list, answer_list])"
   ]
  },
  {
   "cell_type": "code",
   "execution_count": 7,
   "id": "6e1e7e8c",
   "metadata": {},
   "outputs": [],
   "source": [
    "def fused_article(corpus_list):\n",
    "    sos = \"<s>\"\n",
    "    eos = \"</s>\"\n",
    "\n",
    "    rcw = re.compile(r\"\\s+\")\n",
    "\n",
    "    corpus_padded_list = []\n",
    "    for line in corpus_list:\n",
    "        line = line.replace(\"\\n\", \" \").replace(\"\\r\", \" \")\n",
    "        line = rcw.sub(\" \", line).strip()\n",
    "        line = [sos, normalize_to_ascii(line).lower(), eos]\n",
    "        corpus_padded_list.extend(line)\n",
    "    \n",
    "    return \"\".join(corpus_padded_list)"
   ]
  },
  {
   "cell_type": "markdown",
   "id": "29376866",
   "metadata": {},
   "source": [
    "## QA"
   ]
  },
  {
   "cell_type": "code",
   "execution_count": 10,
   "id": "d62eca6b",
   "metadata": {},
   "outputs": [],
   "source": [
    "def fused_qa(question_list, answer_list):\n",
    "    q =\"<q>\"\n",
    "    a = \"<a>\"\n",
    "    sos = \"<s>\"\n",
    "    eos = \"</s>\"\n",
    "    rcw = re.compile(r\"\\s+\")\n",
    "\n",
    "    corpus_list = []\n",
    "    for question, answer in tqdm(list(zip(question_list, answer_list))):\n",
    "        question = question.replace(\"\\n\", \" \").replace(\"\\r\", \" \")\n",
    "        question = rcw.sub(\" \", question).strip()\n",
    "        answer = answer.replace(\"\\n\", \" \").replace(\"\\r\", \" \")\n",
    "        answer = rcw.sub(\" \", answer).strip()\n",
    "        qa = [sos, q, normalize_to_ascii(question), a, normalize_to_ascii(answer), eos]\n",
    "        corpus_list.extend(qa)\n",
    "        \n",
    "    return \"\".join(corpus_list).lower()"
   ]
  },
  {
   "cell_type": "markdown",
   "id": "52a5f20b",
   "metadata": {},
   "source": [
    "## "
   ]
  }
 ],
 "metadata": {
  "kernelspec": {
   "display_name": "env_pytorch",
   "language": "python",
   "name": "python3"
  },
  "language_info": {
   "codemirror_mode": {
    "name": "ipython",
    "version": 3
   },
   "file_extension": ".py",
   "mimetype": "text/x-python",
   "name": "python",
   "nbconvert_exporter": "python",
   "pygments_lexer": "ipython3",
   "version": "3.12.2"
  }
 },
 "nbformat": 4,
 "nbformat_minor": 5
}
