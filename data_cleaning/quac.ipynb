{
 "cells": [
  {
   "cell_type": "markdown",
   "id": "04010a08",
   "metadata": {},
   "source": [
    "## LLM"
   ]
  },
  {
   "cell_type": "code",
   "execution_count": 1,
   "id": "8fa3d166",
   "metadata": {},
   "outputs": [],
   "source": [
    "import sys\n",
    "sys.path.insert(0, '../src/')\n",
    "\n",
    "import matplotlib.pyplot as plt\n",
    "from tokenizer import TokenizerBPE\n",
    "from data_handling import normalize_to_ascii, clean_text\n",
    "from utils import saver, loader\n",
    "import numpy as np\n",
    "import re\n",
    "\n",
    "import os\n",
    "import pickle as pkl\n",
    "from tqdm.notebook import tqdm\n",
    "import json\n",
    "\n",
    "# disable gpu for testing purposes\n",
    "os.environ[\"CUDA_VISIBLE_DEVICES\"] = \"-1\"\n"
   ]
  },
  {
   "cell_type": "markdown",
   "id": "cbd43409",
   "metadata": {},
   "source": [
    "## QuAC"
   ]
  },
  {
   "cell_type": "code",
   "execution_count": 3,
   "id": "ce997267",
   "metadata": {},
   "outputs": [
    {
     "name": "stdout",
     "output_type": "stream",
     "text": [
      "QuAC length:  11567\n"
     ]
    }
   ],
   "source": [
    "with open('../corpus/train_v0.2.json', 'r', encoding='utf-8') as f:\n",
    "    quac = json.load(f)\n",
    "\n",
    "data = quac[\"data\"]\n",
    "length = len(data)\n",
    "print(\"QuAC length: \", length)"
   ]
  },
  {
   "cell_type": "code",
   "execution_count": 4,
   "id": "a1a7f7a1",
   "metadata": {},
   "outputs": [],
   "source": [
    "context_list = []\n",
    "\n",
    "question_grouped = []\n",
    "answer_grouped = []\n",
    "\n",
    "for article in quac[\"data\"]:\n",
    "    for paragraph in article['paragraphs']:\n",
    "        question_grouped.append([])\n",
    "        answer_grouped.append([])\n",
    "        context_list.append(clean_text(normalize_to_ascii(paragraph['context'].replace(\" CANNOTANSWER\", \"\"))))\n",
    "        for qa in paragraph['qas']:\n",
    "                question = qa['question']\n",
    "                answer = qa['answers'][0][\"text\"]\n",
    "\n",
    "                question_grouped[-1].append(clean_text(normalize_to_ascii(question)))\n",
    "                answer_grouped[-1].append(clean_text(normalize_to_ascii(answer)))"
   ]
  },
  {
   "cell_type": "code",
   "execution_count": 5,
   "id": "f62f48d5",
   "metadata": {},
   "outputs": [],
   "source": [
    "saver(\"../corpus/quac_raw\", [context_list, question_grouped, answer_grouped])"
   ]
  },
  {
   "cell_type": "code",
   "execution_count": 11,
   "id": "79f2887c",
   "metadata": {},
   "outputs": [],
   "source": [
    "len_list = [len(x) for x in context_list]"
   ]
  },
  {
   "cell_type": "code",
   "execution_count": 12,
   "id": "23f79130",
   "metadata": {},
   "outputs": [
    {
     "data": {
      "image/png": "[encoded data removed]",
      "text/plain": [
       "<Figure size 640x480 with 1 Axes>"
      ]
     },
     "metadata": {},
     "output_type": "display_data"
    }
   ],
   "source": [
    "plt.hist(len_list, bins=100)\n",
    "plt.show()"
   ]
  },
  {
   "cell_type": "code",
   "execution_count": 6,
   "id": "e57bd641",
   "metadata": {},
   "outputs": [],
   "source": [
    "def fused_sqa(story_list, question_grouped_list, answer_grouped_list):\n",
    "    q =\"<q>\"\n",
    "    a = \"<a>\"\n",
    "    sos = \"<s>\"\n",
    "    eos = \"</s>\"\n",
    "\n",
    "    rcw = re.compile(r\"\\s+\")\n",
    "\n",
    "    corpus_list = []\n",
    "    for story, question_list, answer_list in tqdm(list(zip(story_list, question_grouped_list, answer_grouped_list))):\n",
    "        story = story.replace(\"\\n\", \" \").replace(\"\\r\", \" \")\n",
    "        story = rcw.sub(\" \", story).strip()\n",
    "        sqa = [sos, normalize_to_ascii(story).lower()]\n",
    "        for question, answer in zip(question_list, answer_list):\n",
    "            question = question.replace(\"\\n\", \" \").replace(\"\\r\", \" \")\n",
    "            question = rcw.sub(\" \", question).strip()\n",
    "            answer = answer.replace(\"\\n\", \" \").replace(\"\\r\", \" \")\n",
    "            answer = rcw.sub(\" \", answer).strip()\n",
    "            sqa.append(q)\n",
    "            sqa.append(normalize_to_ascii(question).lower())\n",
    "            sqa.append(a)\n",
    "            sqa.append(normalize_to_ascii(answer).lower())\n",
    "        sqa.append(eos)\n",
    "        corpus_list.append(\"\".join(sqa))\n",
    "        \n",
    "    return corpus_list"
   ]
  },
  {
   "cell_type": "code",
   "execution_count": 7,
   "id": "0e91334a",
   "metadata": {},
   "outputs": [
    {
     "data": {
      "application/vnd.jupyter.widget-view+json": {
       "model_id": "97e511b7e8cc4e82aa87d0d7dcd4f66d",
       "version_major": 2,
       "version_minor": 0
      },
      "text/plain": [
       "  0%|          | 0/11567 [00:00<?, ?it/s]"
      ]
     },
     "metadata": {},
     "output_type": "display_data"
    }
   ],
   "source": [
    "fused = fused_sqa(context_list, question_grouped, answer_grouped)"
   ]
  },
  {
   "cell_type": "markdown",
   "id": "52a5f20b",
   "metadata": {},
   "source": [
    "## "
   ]
  }
 ],
 "metadata": {
  "kernelspec": {
   "display_name": "env_pytorch",
   "language": "python",
   "name": "python3"
  },
  "language_info": {
   "codemirror_mode": {
    "name": "ipython",
    "version": 3
   },
   "file_extension": ".py",
   "mimetype": "text/x-python",
   "name": "python",
   "nbconvert_exporter": "python",
   "pygments_lexer": "ipython3",
   "version": "3.12.2"
  }
 },
 "nbformat": 4,
 "nbformat_minor": 5
}
