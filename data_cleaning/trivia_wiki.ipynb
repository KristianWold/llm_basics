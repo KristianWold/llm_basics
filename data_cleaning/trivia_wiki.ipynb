{
 "cells": [
  {
   "cell_type": "markdown",
   "id": "04010a08",
   "metadata": {},
   "source": [
    "## LLM"
   ]
  },
  {
   "cell_type": "code",
   "execution_count": 1,
   "id": "8fa3d166",
   "metadata": {},
   "outputs": [],
   "source": [
    "import sys\n",
    "sys.path.insert(0, '../src/')\n",
    "\n",
    "import matplotlib.pyplot as plt\n",
    "from tokenizer import TokenizerBPE\n",
    "from data_handling import normalize_to_ascii, clean_text\n",
    "from utils import saver\n",
    "import numpy as np\n",
    "import re\n",
    "\n",
    "import os\n",
    "import pickle as pkl\n",
    "from tqdm.notebook import tqdm\n",
    "import json\n",
    "\n",
    "# disable gpu for testing purposes\n",
    "os.environ[\"CUDA_VISIBLE_DEVICES\"] = \"-1\"\n"
   ]
  },
  {
   "cell_type": "markdown",
   "id": "aca6c651",
   "metadata": {},
   "source": [
    "## Trivia Wiki"
   ]
  },
  {
   "cell_type": "code",
   "execution_count": 2,
   "id": "c91c971a",
   "metadata": {},
   "outputs": [],
   "source": [
    "def get_top_n_evidence(n, rank, evidence_article):\n",
    "    top_n = []\n",
    "    for i in range(n):\n",
    "        article = evidence_article[rank[i][0]]\n",
    "        top_n.append(clean_text(normalize_to_ascii(article)))\n",
    "    return top_n"
   ]
  },
  {
   "cell_type": "code",
   "execution_count": 3,
   "id": "1013ca07",
   "metadata": {},
   "outputs": [
    {
     "data": {
      "application/vnd.jupyter.widget-view+json": {
       "model_id": "b38beb6690c947949e92986b90c6c8fe",
       "version_major": 2,
       "version_minor": 0
      },
      "text/plain": [
       "  0%|          | 0/61888 [00:00<?, ?it/s]"
      ]
     },
     "metadata": {},
     "output_type": "display_data"
    }
   ],
   "source": [
    "with open('../corpus/triviaqa-rc/qa/wikipedia-train.json', 'r', encoding='utf-8') as f:\n",
    "    squad = json.load(f)\n",
    "\n",
    "question_list = []\n",
    "answer_list = []\n",
    "evidence_list = []\n",
    "\n",
    "for qa in tqdm(squad['Data']):\n",
    "    question_list.append(clean_text(normalize_to_ascii(qa['Question'])))\n",
    "    answer_list.append(clean_text(normalize_to_ascii(qa['Answer'][\"Value\"])))\n",
    "    sr = qa[\"EntityPages\"]\n",
    "    if len(sr) > 0: \n",
    "        evidence_list.append(sr[0][\"Filename\"])\n",
    "    else:\n",
    "        evidence_list.append(None)"
   ]
  },
  {
   "cell_type": "code",
   "execution_count": 4,
   "id": "b135b5f7",
   "metadata": {},
   "outputs": [
    {
     "data": {
      "application/vnd.jupyter.widget-view+json": {
       "model_id": "1362cc5556e64528becb0d6365708567",
       "version_major": 2,
       "version_minor": 0
      },
      "text/plain": [
       "  0%|          | 0/61888 [00:00<?, ?it/s]"
      ]
     },
     "metadata": {},
     "output_type": "display_data"
    }
   ],
   "source": [
    "path = \"../corpus/triviaqa-rc/evidence/wikipedia/\"\n",
    "\n",
    "evidence_article = {}\n",
    "seen = {}\n",
    "\n",
    "for i, evidence in tqdm(list(enumerate(evidence_list))):\n",
    "    if evidence is not None:\n",
    "        evidence = evidence#.replace(\":\", \"_\").replace(\"?\", \"_\").replace(\"*\", \"_\").replace('\"', \"_\")\n",
    "        if not evidence in seen:\n",
    "            seen[evidence] = 1\n",
    "            try:\n",
    "                txt = open(path + evidence, 'r', encoding='utf-8').read()\n",
    "                evidence_article[evidence] = txt\n",
    "            except:\n",
    "                print(\"Error reading file: \", evidence)\n",
    "                continue\n",
    "        else:\n",
    "            seen[evidence] += 1"
   ]
  },
  {
   "cell_type": "code",
   "execution_count": 5,
   "id": "37165b01",
   "metadata": {},
   "outputs": [
    {
     "name": "stdout",
     "output_type": "stream",
     "text": [
      "526777192\n",
      "28406\n"
     ]
    }
   ],
   "source": [
    "rank = [[evidence, freq] for freq, evidence in sorted(zip(seen.values(), seen.keys()), reverse=True)]\n",
    "\n",
    "article_list = get_top_n_evidence(len(rank), rank, evidence_article)\n",
    "\n",
    "print(len(\"\".join(article_list)))\n",
    "print(len(rank))"
   ]
  },
  {
   "cell_type": "code",
   "execution_count": 6,
   "id": "1c96a5e0",
   "metadata": {},
   "outputs": [],
   "source": [
    "saver(\"../corpus/trivia_wiki_raw\", [article_list, question_list, answer_list])"
   ]
  },
  {
   "cell_type": "code",
   "execution_count": 7,
   "id": "a70e84c8",
   "metadata": {},
   "outputs": [],
   "source": [
    "def fused_article(corpus_list):\n",
    "    sos = \"<s>\"\n",
    "    eos = \"</s>\"\n",
    "\n",
    "    rcw = re.compile(r\"\\s+\")\n",
    "\n",
    "    corpus_padded_list = []\n",
    "    for line in corpus_list:\n",
    "        line = line.replace(\"\\n\", \" \").replace(\"\\r\", \" \")\n",
    "        line = rcw.sub(\" \", line).strip()\n",
    "        line = [sos, normalize_to_ascii(line).lower(), eos]\n",
    "        corpus_padded_list.extend(line)\n",
    "    \n",
    "    return \"\".join(corpus_padded_list)"
   ]
  },
  {
   "cell_type": "code",
   "execution_count": 8,
   "id": "652f30c8",
   "metadata": {},
   "outputs": [
    {
     "data": {
      "application/vnd.jupyter.widget-view+json": {
       "model_id": "ba8353ae4eda4bd3aa909588b4239d18",
       "version_major": 2,
       "version_minor": 0
      },
      "text/plain": [
       "  0%|          | 0/24000 [00:00<?, ?it/s]"
      ]
     },
     "metadata": {},
     "output_type": "display_data"
    }
   ],
   "source": [
    "fused = fused_article(article_list)\n",
    "corpus_encoded = tokenizer.encode(fused.lower(), verbose=True)\n",
    "\n",
    "pkl.dump(corpus_encoded, open('../corpus/corpus_clean/corpus_wiki_article_24k', 'wb'))"
   ]
  },
  {
   "cell_type": "markdown",
   "id": "467e6494",
   "metadata": {},
   "source": [
    "## QA"
   ]
  },
  {
   "cell_type": "code",
   "execution_count": 13,
   "id": "45dfab1f",
   "metadata": {},
   "outputs": [],
   "source": [
    "def fused_qa(question_list, answer_list):\n",
    "    q =\"<q>\"\n",
    "    a = \"<a>\"\n",
    "    sos = \"<s>\"\n",
    "    eos = \"</s>\"\n",
    "    rcw = re.compile(r\"\\s+\")\n",
    "\n",
    "    corpus_list = []\n",
    "    for question, answer in tqdm(list(zip(question_list, answer_list))):\n",
    "        question = question.replace(\"\\n\", \" \").replace(\"\\r\", \" \")\n",
    "        question = rcw.sub(\" \", question).strip()\n",
    "        answer = answer.replace(\"\\n\", \" \").replace(\"\\r\", \" \")\n",
    "        answer = rcw.sub(\" \", answer).strip()\n",
    "        qa = [sos, q, normalize_to_ascii(question), a, normalize_to_ascii(answer), eos]\n",
    "        corpus_list.extend(qa)\n",
    "        \n",
    "    return \"\".join(corpus_list).lower()"
   ]
  },
  {
   "cell_type": "code",
   "execution_count": 17,
   "id": "c8759719",
   "metadata": {},
   "outputs": [
    {
     "data": {
      "application/vnd.jupyter.widget-view+json": {
       "model_id": "ab1b65d7685f4daa9272494d04d8eaae",
       "version_major": 2,
       "version_minor": 0
      },
      "text/plain": [
       "  0%|          | 0/61888 [00:00<?, ?it/s]"
      ]
     },
     "metadata": {},
     "output_type": "display_data"
    },
    {
     "data": {
      "application/vnd.jupyter.widget-view+json": {
       "model_id": "34a11a858d4d4bc996b63d8ee7a4010c",
       "version_major": 2,
       "version_minor": 0
      },
      "text/plain": [
       "  0%|          | 0/24000 [00:00<?, ?it/s]"
      ]
     },
     "metadata": {},
     "output_type": "display_data"
    }
   ],
   "source": [
    "fused = fused_qa(question_list, answer_list)\n",
    "corpus_encoded = tokenizer.encode(fused, verbose=True)\n",
    "\n",
    "pkl.dump(corpus_encoded, open('../corpus/corpus_clean/corpus_wiki_qa_24k', 'wb'))"
   ]
  },
  {
   "cell_type": "markdown",
   "id": "52a5f20b",
   "metadata": {},
   "source": [
    "## "
   ]
  }
 ],
 "metadata": {
  "kernelspec": {
   "display_name": "env_pytorch",
   "language": "python",
   "name": "python3"
  },
  "language_info": {
   "codemirror_mode": {
    "name": "ipython",
    "version": 3
   },
   "file_extension": ".py",
   "mimetype": "text/x-python",
   "name": "python",
   "nbconvert_exporter": "python",
   "pygments_lexer": "ipython3",
   "version": "3.12.2"
  }
 },
 "nbformat": 4,
 "nbformat_minor": 5
}
