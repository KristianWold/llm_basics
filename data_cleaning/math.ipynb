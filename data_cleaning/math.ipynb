{
 "cells": [
  {
   "cell_type": "markdown",
   "id": "04010a08",
   "metadata": {},
   "source": [
    "## LLM"
   ]
  },
  {
   "cell_type": "code",
   "execution_count": 1,
   "id": "8fa3d166",
   "metadata": {},
   "outputs": [],
   "source": [
    "import sys\n",
    "sys.path.insert(0, '../src/')\n",
    "\n",
    "import matplotlib.pyplot as plt\n",
    "from tokenizer import TokenizerBPE\n",
    "from data_handling import normalize_to_ascii, clean_text\n",
    "from utils import saver, loader\n",
    "import numpy as np\n",
    "import re\n",
    "\n",
    "import os\n",
    "import pickle as pkl\n",
    "from tqdm.notebook import tqdm\n",
    "import json\n",
    "\n",
    "# disable gpu for testing purposes\n",
    "os.environ[\"CUDA_VISIBLE_DEVICES\"] = \"-1\"\n"
   ]
  },
  {
   "cell_type": "markdown",
   "id": "1f199c71",
   "metadata": {},
   "source": [
    "## General Math"
   ]
  },
  {
   "cell_type": "code",
   "execution_count": 2,
   "id": "8d3f6ad7",
   "metadata": {},
   "outputs": [],
   "source": [
    "with open('../corpus/train.jsonl', 'r', encoding='utf-8') as f:\n",
    "    data = [json.loads(line) for line in f]\n",
    "\n",
    "length = len(data)"
   ]
  },
  {
   "cell_type": "code",
   "execution_count": 3,
   "id": "fe1f4437",
   "metadata": {},
   "outputs": [
    {
     "name": "stdout",
     "output_type": "stream",
     "text": [
      "7473\n"
     ]
    }
   ],
   "source": [
    "print(length)"
   ]
  },
  {
   "cell_type": "code",
   "execution_count": 4,
   "id": "aa0f3fe4",
   "metadata": {},
   "outputs": [
    {
     "data": {
      "application/vnd.jupyter.widget-view+json": {
       "model_id": "b1e405cabb4549359426a3d4dd0954d3",
       "version_major": 2,
       "version_minor": 0
      },
      "text/plain": [
       "  0%|          | 0/7473 [00:00<?, ?it/s]"
      ]
     },
     "metadata": {},
     "output_type": "display_data"
    }
   ],
   "source": [
    "question_list = []\n",
    "answer_list = []\n",
    "\n",
    "\n",
    "for i, sample in tqdm(enumerate(data), total=length):\n",
    "    question = sample[\"question\"]\n",
    "    question = clean_text(normalize_to_ascii(question))\n",
    "    answer = clean_text(normalize_to_ascii(sample[\"answer\"]))\n",
    "    answer = re.sub(r\"<<.*?>>\", \"\", answer)\n",
    "    answer = re.sub(r\"####.*\", \"\", answer).strip()\n",
    "    question_list.append(question)\n",
    "    answer_list.append(answer)"
   ]
  },
  {
   "cell_type": "code",
   "execution_count": 5,
   "id": "77c23d13",
   "metadata": {},
   "outputs": [
    {
     "name": "stdout",
     "output_type": "stream",
     "text": [
      "3533543\n"
     ]
    }
   ],
   "source": [
    "print(len(\"\".join(question_list + answer_list)))"
   ]
  },
  {
   "cell_type": "code",
   "execution_count": 6,
   "id": "aa65bf5e",
   "metadata": {},
   "outputs": [],
   "source": [
    "saver(\"../corpus/math_raw\", [question_list, answer_list])"
   ]
  },
  {
   "cell_type": "code",
   "execution_count": 8,
   "id": "a3d8bb59",
   "metadata": {},
   "outputs": [],
   "source": [
    "def fused_sqa(story_list, question_grouped_list, answer_grouped_list):\n",
    "    q =\"<q>\"\n",
    "    a = \"<a>\"\n",
    "    sos = \"<s>\"\n",
    "    eos = \"</s>\"\n",
    "\n",
    "    rcw = re.compile(r\"\\s+\")\n",
    "\n",
    "    corpus_list = []\n",
    "    for story, question_list, answer_list in tqdm(list(zip(story_list, question_grouped_list, answer_grouped_list))):\n",
    "        sqa = [sos, normalize_to_ascii(story).lower()]\n",
    "        for question, answer in zip(question_list, answer_list):\n",
    "            sqa.append(q)\n",
    "            sqa.append(normalize_to_ascii(question).lower())\n",
    "            sqa.append(a)\n",
    "            sqa.append(normalize_to_ascii(answer).lower())\n",
    "        sqa.append(eos)\n",
    "        corpus_list.append(\"\".join(sqa))\n",
    "        \n",
    "    return corpus_list"
   ]
  },
  {
   "cell_type": "code",
   "execution_count": 11,
   "id": "4e96eaf8",
   "metadata": {},
   "outputs": [
    {
     "data": {
      "application/vnd.jupyter.widget-view+json": {
       "model_id": "ea4bbc9de5b84abcb3ecc46ae582ad8c",
       "version_major": 2,
       "version_minor": 0
      },
      "text/plain": [
       "  0%|          | 0/7199 [00:00<?, ?it/s]"
      ]
     },
     "metadata": {},
     "output_type": "display_data"
    }
   ],
   "source": [
    "corpus_list = fused_sqa(context_list, question_grouped, answer_grouped)"
   ]
  },
  {
   "cell_type": "markdown",
   "id": "52a5f20b",
   "metadata": {},
   "source": [
    "## "
   ]
  }
 ],
 "metadata": {
  "kernelspec": {
   "display_name": "env_pytorch",
   "language": "python",
   "name": "python3"
  },
  "language_info": {
   "codemirror_mode": {
    "name": "ipython",
    "version": 3
   },
   "file_extension": ".py",
   "mimetype": "text/x-python",
   "name": "python",
   "nbconvert_exporter": "python",
   "pygments_lexer": "ipython3",
   "version": "3.12.2"
  }
 },
 "nbformat": 4,
 "nbformat_minor": 5
}
