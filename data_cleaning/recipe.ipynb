{
 "cells": [
  {
   "cell_type": "markdown",
   "id": "04010a08",
   "metadata": {},
   "source": [
    "## LLM"
   ]
  },
  {
   "cell_type": "code",
   "execution_count": 1,
   "id": "8fa3d166",
   "metadata": {},
   "outputs": [],
   "source": [
    "import sys\n",
    "sys.path.insert(0, '../src/')\n",
    "\n",
    "import matplotlib.pyplot as plt\n",
    "from tokenizer import TokenizerBPE\n",
    "from data_handling import normalize_to_ascii, clean_text\n",
    "from utils import saver\n",
    "import numpy as np\n",
    "import re\n",
    "import os\n",
    "import random\n",
    "\n",
    "import pickle as pkl\n",
    "from tqdm.notebook import tqdm\n",
    "import json\n",
    "import kagglehub\n",
    "import csv\n",
    "\n",
    "# disable gpu for testing purposes\n",
    "os.environ[\"CUDA_VISIBLE_DEVICES\"] = \"-1\"\n"
   ]
  },
  {
   "cell_type": "markdown",
   "id": "1f199c71",
   "metadata": {},
   "source": [
    "## Recipe"
   ]
  },
  {
   "cell_type": "code",
   "execution_count": 2,
   "id": "8d3f6ad7",
   "metadata": {},
   "outputs": [
    {
     "name": "stdout",
     "output_type": "stream",
     "text": [
      "Warning: Looks like you're using an outdated `kagglehub` version, please consider updating (latest version: 0.3.12)\n"
     ]
    }
   ],
   "source": [
    "path = kagglehub.dataset_download(\"paultimothymooney/recipenlg\")"
   ]
  },
  {
   "cell_type": "code",
   "execution_count": 3,
   "id": "e9fbf858",
   "metadata": {},
   "outputs": [
    {
     "data": {
      "application/vnd.jupyter.widget-view+json": {
       "model_id": "ac432b9959bf45d2aa44c6135987da9e",
       "version_major": 2,
       "version_minor": 0
      },
      "text/plain": [
       "0it [00:00, ?it/s]"
      ]
     },
     "metadata": {},
     "output_type": "display_data"
    },
    {
     "ename": "KeyboardInterrupt",
     "evalue": "",
     "output_type": "error",
     "traceback": [
      "\u001b[31m---------------------------------------------------------------------------\u001b[39m",
      "\u001b[31mKeyboardInterrupt\u001b[39m                         Traceback (most recent call last)",
      "\u001b[36mCell\u001b[39m\u001b[36m \u001b[39m\u001b[32mIn[3]\u001b[39m\u001b[32m, line 8\u001b[39m\n\u001b[32m      6\u001b[39m \u001b[38;5;28;01mfor\u001b[39;00m i, row \u001b[38;5;129;01min\u001b[39;00m tqdm(\u001b[38;5;28menumerate\u001b[39m(reader)):\n\u001b[32m      7\u001b[39m     name = row[\u001b[32m1\u001b[39m]\n\u001b[32m----> \u001b[39m\u001b[32m8\u001b[39m     ingred = row[\u001b[32m2\u001b[39m].replace(\u001b[33m'\u001b[39m\u001b[33m\"\u001b[39m\u001b[33m'\u001b[39m, \u001b[33m\"\u001b[39m\u001b[33m\"\u001b[39m). replace(\u001b[33m\"\u001b[39m\u001b[33m[\u001b[39m\u001b[33m\"\u001b[39m, \u001b[33m\"\u001b[39m\u001b[33m\"\u001b[39m).replace(\u001b[33m\"\u001b[39m\u001b[33m]\u001b[39m\u001b[33m\"\u001b[39m, \u001b[33m\"\u001b[39m\u001b[33m\"\u001b[39m)\n\u001b[32m      9\u001b[39m     \u001b[38;5;28mdir\u001b[39m = row[\u001b[32m3\u001b[39m].replace(\u001b[33m'\u001b[39m\u001b[33m\"\u001b[39m\u001b[33m'\u001b[39m, \u001b[33m\"\u001b[39m\u001b[33m\"\u001b[39m). replace(\u001b[33m\"\u001b[39m\u001b[33m[\u001b[39m\u001b[33m\"\u001b[39m, \u001b[33m\"\u001b[39m\u001b[33m\"\u001b[39m).replace(\u001b[33m\"\u001b[39m\u001b[33m]\u001b[39m\u001b[33m\"\u001b[39m, \u001b[33m\"\u001b[39m\u001b[33m\"\u001b[39m)\n\u001b[32m     10\u001b[39m     text = \u001b[33m\"\u001b[39m\u001b[33mRecipe for \u001b[39m\u001b[33m\"\u001b[39m + name + \u001b[33m\"\u001b[39m\u001b[33m: Ingredients: \u001b[39m\u001b[33m\"\u001b[39m + ingred + \u001b[33m\"\u001b[39m\u001b[33m. Directions: \u001b[39m\u001b[33m\"\u001b[39m + \u001b[38;5;28mdir\u001b[39m\n",
      "\u001b[31mKeyboardInterrupt\u001b[39m: "
     ]
    }
   ],
   "source": [
    "text_list = []\n",
    "\n",
    "with open(os.path.join(path, 'RecipeNLG_dataset.csv'), newline='') as f:\n",
    "    reader = csv.reader(f)\n",
    "    header = next(reader)\n",
    "    for i, row in tqdm(enumerate(reader)):\n",
    "        name = row[1]\n",
    "        ingred = row[2].replace('\"', \"\"). replace(\"[\", \"\").replace(\"]\", \"\")\n",
    "        dir = row[3].replace('\"', \"\"). replace(\"[\", \"\").replace(\"]\", \"\")\n",
    "        text = \"Recipe for \" + name + \": Ingredients: \" + ingred + \". Directions: \" + dir\n",
    "        text = clean_text(normalize_to_ascii(text))\n",
    "        text_list.append(text)\n",
    "        if i > 200000:\n",
    "            break"
   ]
  },
  {
   "cell_type": "code",
   "execution_count": 18,
   "id": "17febb9d",
   "metadata": {},
   "outputs": [],
   "source": [
    "saver(\"../corpus/recipe_raw\", text_list)"
   ]
  },
  {
   "cell_type": "code",
   "execution_count": 4,
   "id": "9b3d7ecc",
   "metadata": {},
   "outputs": [],
   "source": [
    "def fused_article(corpus_list):\n",
    "    sos = \"<s>\"\n",
    "    eos = \"</s>\"\n",
    "\n",
    "    rcw = re.compile(r\"\\s+\")\n",
    "\n",
    "    corpus_padded_list = []\n",
    "    for line in corpus_list:\n",
    "        line = line.replace(\"\\n\", \" \").replace(\"\\r\", \" \")\n",
    "        line = rcw.sub(\" \", line).strip()\n",
    "        line = [sos, normalize_to_ascii(line).lower(), eos]\n",
    "        corpus_padded_list.extend(line)\n",
    "    \n",
    "    return \"\".join(corpus_padded_list)"
   ]
  },
  {
   "cell_type": "code",
   "execution_count": null,
   "id": "a6a4cd3c",
   "metadata": {},
   "outputs": [],
   "source": []
  },
  {
   "cell_type": "markdown",
   "id": "c695cede",
   "metadata": {},
   "source": [
    "## QA recipe"
   ]
  },
  {
   "cell_type": "code",
   "execution_count": null,
   "id": "903558fa",
   "metadata": {},
   "outputs": [],
   "source": [
    "def fused_qa(question_list, answer_list):\n",
    "    q =\"<q>\"\n",
    "    a = \"<a>\"\n",
    "    sos = \"<s>\"\n",
    "    eos = \"</s>\"\n",
    "    rcw = re.compile(r\"\\s+\")\n",
    "\n",
    "    corpus_list = []\n",
    "    for question, answer in tqdm(list(zip(question_list, answer_list))):\n",
    "        question = question.replace(\"\\n\", \" \").replace(\"\\r\", \" \")\n",
    "        question = rcw.sub(\" \", question).strip()\n",
    "        answer = answer.replace(\"\\n\", \" \").replace(\"\\r\", \" \")\n",
    "        answer = rcw.sub(\" \", answer).strip()\n",
    "        qa = [sos, q, clean_text(normalize_to_ascii(question)), a, clean_text(normalize_to_ascii(answer)), eos]\n",
    "        corpus_list.extend(qa)\n",
    "        \n",
    "    return \"\".join(corpus_list).lower()"
   ]
  },
  {
   "cell_type": "code",
   "execution_count": 20,
   "id": "761e94cf",
   "metadata": {},
   "outputs": [
    {
     "data": {
      "application/vnd.jupyter.widget-view+json": {
       "model_id": "9901ca7788274b5fa25268245be15866",
       "version_major": 2,
       "version_minor": 0
      },
      "text/plain": [
       "0it [00:00, ?it/s]"
      ]
     },
     "metadata": {},
     "output_type": "display_data"
    }
   ],
   "source": [
    "question_list = []\n",
    "answer_list = []\n",
    "\n",
    "question_type = [\"Make me a recipe for\",\n",
    "                 \"What is a recipe for\",\n",
    "                 \"How do I make a recipe for\",\n",
    "                 \"How can I make a recipe for\",\n",
    "                 \"Can you give me a recipe for\",\n",
    "                 \"Can you make me a recipe for\",\n",
    "                 \"Can you tell me a recipe for\",]\n",
    "\n",
    "with open(os.path.join(path, 'RecipeNLG_dataset.csv'), newline='') as f:\n",
    "    reader = csv.reader(f)\n",
    "    header = next(reader)\n",
    "    for i, row in tqdm(enumerate(reader)):\n",
    "        if i > 200000:\n",
    "            name = row[1]\n",
    "            ingred = row[2].replace('\"', \"\").replace(\"[\", \"\").replace(\"]\", \"\")\n",
    "            dir = row[3].replace('\"', \"\"). replace(\"[\", \"\").replace(\"]\", \"\")\n",
    "\n",
    "            qt = question_type[i % len(question_type)]\n",
    "\n",
    "            question = qt + \" \" + name + \"?\"\n",
    "            question = clean_text(normalize_to_ascii(question))\n",
    "            question_list.append(question)\n",
    "\n",
    "            answer = \"Ingredients: \" + ingred + \". Directions: \" + dir\n",
    "            answer = clean_text(normalize_to_ascii(answer))\n",
    "            answer_list.append(answer)\n",
    "\n",
    "        if i > 400000:\n",
    "            break"
   ]
  },
  {
   "cell_type": "code",
   "execution_count": 21,
   "id": "32262781",
   "metadata": {},
   "outputs": [],
   "source": [
    "saver(\"../corpus/recipe_qa_raw\", [question_list, answer_list])"
   ]
  },
  {
   "cell_type": "markdown",
   "id": "1e9b7298",
   "metadata": {},
   "source": [
    "## QA recipe with ingred"
   ]
  },
  {
   "cell_type": "code",
   "execution_count": 20,
   "id": "5b17ff54",
   "metadata": {},
   "outputs": [
    {
     "data": {
      "application/vnd.jupyter.widget-view+json": {
       "model_id": "3f55800a3c844e759b9df315caf22d39",
       "version_major": 2,
       "version_minor": 0
      },
      "text/plain": [
       "0it [00:00, ?it/s]"
      ]
     },
     "metadata": {},
     "output_type": "display_data"
    }
   ],
   "source": [
    "question_list = []\n",
    "answer_list = []\n",
    "\n",
    "question_type = [\"Make me a recipe for\",\n",
    "                 \"What is a recipe for\",\n",
    "                 \"How do I make a recipe for\",\n",
    "                 \"How can I make a recipe for\",\n",
    "                 \"Can you give me a recipe for\",\n",
    "                 \"Can you make me a recipe for\",\n",
    "                 \"Can you tell me a recipe for\",]\n",
    "\n",
    "with open(os.path.join(path, 'RecipeNLG_dataset.csv'), newline='') as f:\n",
    "    reader = csv.reader(f)\n",
    "    header = next(reader)\n",
    "    for i, row in tqdm(enumerate(reader)):\n",
    "        if i > 400000:\n",
    "            name = row[1]\n",
    "            ingred_clean = row[2].replace('\"', \"\").replace(\"[\", \"\").replace(\"]\", \"\")#.replace(\"\\u00b0\", \" degrees\")\n",
    "            ingred_list = ingred_clean.split(\",\")\n",
    "            random.shuffle(ingred_list)\n",
    "            num_ingred = random.randint(1, 4)\n",
    "            ingred_list = ingred_list[:num_ingred]\n",
    "            if len(ingred_list) > 1:\n",
    "                ingred_request = \", \".join(ingred_list[:-1]) + \" and \" + ingred_list[-1]\n",
    "            else:\n",
    "                ingred_request = ingred_list[0]\n",
    "\n",
    "            dir = row[3].replace('\"', \"\"). replace(\"[\", \"\").replace(\"]\", \"\")\n",
    "            qt = question_type[i % len(question_type)]\n",
    "\n",
    "\n",
    "\n",
    "            question = qt + \" \" + name + \" with \" + ingred_request + \"?\"\n",
    "            question = clean_text(normalize_to_ascii(question))\n",
    "            question_list.append(question)\n",
    "\n",
    "            answer = \"Ingredients: \" + ingred_clean + \". Directions: \" + dir\n",
    "            answer = clean_text(normalize_to_ascii(answer))\n",
    "            answer_list.append(answer)\n",
    "\n",
    "        if i > 600000:\n",
    "            break"
   ]
  },
  {
   "cell_type": "code",
   "execution_count": 27,
   "id": "7631865b",
   "metadata": {},
   "outputs": [],
   "source": [
    "saver(\"../corpus/recipe_qa_ingred_raw\", [question_list, answer_list])"
   ]
  },
  {
   "cell_type": "code",
   "execution_count": 29,
   "id": "b72031cf",
   "metadata": {},
   "outputs": [
    {
     "name": "stdout",
     "output_type": "stream",
     "text": [
      "can you make me a recipe for texas hash with 2 c. canned tomatoes, chopped and 2 green peppers?\n",
      "ingredients: 2 large onions, chopped, 2 green peppers, chopped, 3 tbsp. shortening, 1 lb. hamburger, 1 tsp. salt, 2 c. canned tomatoes, 1/2 c. uncooked rice, 1/4 tsp. pepper. directions: cook onions and peppers in shortening until onions are clear. add hamburger and salt., cook until mixture falls apart., add tomatoes, rice, and other seasonings., arrange in large casserole. cover and bake at 375\\u00b0 for 45 minutes or until done.\n"
     ]
    }
   ],
   "source": [
    "print(question_list[5])\n",
    "print(answer_list[5])\n"
   ]
  },
  {
   "cell_type": "markdown",
   "id": "52a5f20b",
   "metadata": {},
   "source": [
    "## "
   ]
  }
 ],
 "metadata": {
  "kernelspec": {
   "display_name": "env_pytorch",
   "language": "python",
   "name": "python3"
  },
  "language_info": {
   "codemirror_mode": {
    "name": "ipython",
    "version": 3
   },
   "file_extension": ".py",
   "mimetype": "text/x-python",
   "name": "python",
   "nbconvert_exporter": "python",
   "pygments_lexer": "ipython3",
   "version": "3.12.2"
  }
 },
 "nbformat": 4,
 "nbformat_minor": 5
}
